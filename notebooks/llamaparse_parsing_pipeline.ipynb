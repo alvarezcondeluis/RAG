{
 "cells": [
  {
   "cell_type": "markdown",
   "metadata": {},
   "source": [
    "# LlamaParse Parsing Pipeline\n",
    "\n",
    "This notebook demonstrates the complete LlamaParse parsing pipeline for PDF documents, including:\n",
    "- Document parsing with LlamaIndex's advanced PDF processing\n",
    "- Markdown conversion and formatting\n",
    "- Performance timing and analysis\n",
    "- Comparison with other parsing methods\n",
    "\n",
    "## Setup and Imports"
   ]
  },
  {
   "cell_type": "code",
   "execution_count": 1,
   "metadata": {},
   "outputs": [],
   "source": [
    "%load_ext autoreload\n",
    "%autoreload 2"
   ]
  },
  {
   "cell_type": "code",
   "execution_count": 2,
   "metadata": {},
   "outputs": [],
   "source": [
    "import sys\n",
    "import os\n",
    "from pathlib import Path\n",
    "import time\n",
    "import json\n",
    "from typing import Dict, Any\n",
    "\n",
    "# Add the src directory to Python path\n",
    "sys.path.append('../src')\n",
    "\n",
    "from simple_rag.parsers.parser_llama import LlamaParseProcessor\n",
    "from simple_rag.main_parser import MainParserProcessor"
   ]
  },
  {
   "cell_type": "markdown",
   "metadata": {},
   "source": [
    "## Configuration\n",
    "\n",
    "Set up the input PDF file and output directory for processing."
   ]
  },
  {
   "cell_type": "code",
   "execution_count": null,
   "metadata": {},
   "outputs": [
    {
     "name": "stdout",
     "output_type": "stream",
     "text": [
      "📄 Input PDF: ../data/ETF/Ishares-SP500KIID.pdf\n",
      "📁 Output directory: ../data/processed\n",
      "✅ PDF exists: True\n"
     ]
    }
   ],
   "source": [
    "# Configuration\n",
    "\n",
    "PDF_FILE = \"../data/output/Windsor_Fund_Investor__factSheet.pdf\"  # Change this to your PDF file\n",
    "OUTPUT_DIR = Path(\"../data/processed\")\n",
    "OUTPUT_DIR.mkdir(parents=True, exist_ok=True)\n",
    "\n",
    "print(f\"📄 Input PDF: {PDF_FILE}\")\n",
    "print(f\"📁 Output directory: {OUTPUT_DIR}\")\n",
    "print(f\"✅ PDF exists: {os.path.exists(PDF_FILE)}\")"
   ]
  },
  {
   "cell_type": "markdown",
   "metadata": {},
   "source": [
    "## Environment Check\n",
    "\n",
    "Verify that the LLAMA_CLOUD_API_KEY is properly configured."
   ]
  },
  {
   "cell_type": "code",
   "execution_count": 4,
   "metadata": {},
   "outputs": [
    {
     "name": "stdout",
     "output_type": "stream",
     "text": [
      "🔑 LLAMA_PARSE_API_KEY found: llx-qGeK...dGeC\n"
     ]
    }
   ],
   "source": [
    "# Check for LlamaCloud API key\n",
    "from dotenv import load_dotenv\n",
    "load_dotenv()\n",
    "api_key = os.getenv('LLAMAPARSE_API_KEY')\n",
    "if api_key:\n",
    "    print(f\"🔑 LLAMA_PARSE_API_KEY found: {api_key[:8]}...{api_key[-4:]}\")\n",
    "else:\n",
    "    print(\"⚠️  LLAMA_PARSE_API_KEY not found in environment variables\")\n",
    "    print(\"   Please set your API key: export LLAMA_PARSE_API_KEY='your_key_here'\")"
   ]
  },
  {
   "cell_type": "markdown",
   "metadata": {},
   "source": [
    "## Initialize LlamaParse Parser\n",
    "\n",
    "Create the LlamaParseProcessor instance with advanced parsing capabilities."
   ]
  },
  {
   "cell_type": "code",
   "execution_count": 5,
   "metadata": {},
   "outputs": [
    {
     "name": "stdout",
     "output_type": "stream",
     "text": [
      "🦙 LlamaParse parser initialized successfully\n",
      "   API Key configured: True\n"
     ]
    }
   ],
   "source": [
    "# Initialize the LlamaParse parser\n",
    "try:\n",
    "    parser = LlamaParseProcessor()\n",
    "    print(\"🦙 LlamaParse parser initialized successfully\")\n",
    "    print(f\"   API Key configured: {parser.api_key is not None}\")\n",
    "except Exception as e:\n",
    "    print(f\"❌ Failed to initialize LlamaParse parser: {e}\")\n",
    "    print(\"   Please check your LLAMA_CLOUD_API_KEY configuration\")"
   ]
  },
  {
   "cell_type": "markdown",
   "metadata": {},
   "source": [
    "## Document Parsing\n",
    "\n",
    "Parse the PDF document using LlamaParse's advanced AI-powered extraction."
   ]
  },
  {
   "cell_type": "code",
   "execution_count": 6,
   "metadata": {},
   "outputs": [
    {
     "name": "stdout",
     "output_type": "stream",
     "text": [
      "🚀 Starting LlamaParse parsing...\n",
      "==================================================\n",
      "⏳ This may take a few moments as LlamaParse processes the document...\n",
      "[llamaparse] sending document: ../data/ETF/Ishares-SP500KIID.pdf\n",
      "WARNING: parsing_instruction is deprecated. Use system_prompt, system_prompt_append or user_prompt instead.\n",
      "Started parsing the file under job_id de4a5873-ef4e-427d-87c1-e5df8ad62bfe\n",
      "[llamaparse] returned docs: 2\n",
      "\n",
      "⏱️  LlamaParse parsing completed in 7.24 seconds\n",
      "📊 Documents extracted: 2\n",
      "   Document 1: 5074 characters\n",
      "   Document 2: 4776 characters\n"
     ]
    }
   ],
   "source": [
    "# Start timing\n",
    "start_time = time.time()\n",
    "\n",
    "print(\"🚀 Starting LlamaParse parsing...\")\n",
    "print(\"=\" * 50)\n",
    "print(\"⏳ This may take a few moments as LlamaParse processes the document...\")\n",
    "\n",
    "try:\n",
    "    # Parse the document\n",
    "    documents = parser.parse_document(PDF_FILE, verbose=True)\n",
    "    \n",
    "    parsing_time = time.time() - start_time\n",
    "    print(f\"\\n⏱️  LlamaParse parsing completed in {parsing_time:.2f} seconds\")\n",
    "    print(f\"📊 Documents extracted: {len(documents)}\")\n",
    "    \n",
    "    # Show document info\n",
    "    for i, doc in enumerate(documents):\n",
    "        content_length = len(doc.text) if hasattr(doc, 'text') else 0\n",
    "        print(f\"   Document {i+1}: {content_length} characters\")\n",
    "        \n",
    "except Exception as e:\n",
    "    print(f\"❌ LlamaParse parsing failed: {e}\")\n",
    "    documents = []"
   ]
  },
  {
   "cell_type": "markdown",
   "metadata": {},
   "source": [
    "## Markdown Conversion\n",
    "\n",
    "Convert the parsed content to well-formatted Markdown."
   ]
  },
  {
   "cell_type": "code",
   "execution_count": 7,
   "metadata": {},
   "outputs": [
    {
     "name": "stdout",
     "output_type": "stream",
     "text": [
      "\n",
      "📝 Converting to Markdown format...\n",
      "===================================\n",
      "\n",
      "📄 Markdown conversion completed\n",
      "📊 Total markdown length: 10129 characters\n",
      "\n",
      "📖 Markdown Preview (first 500 chars):\n",
      "--------------------------------------------------\n",
      "# Parsed Output\n",
      "## Table of Contents\n",
      "- [Chunk 0 — p. n/a: Key Investor Information](#chunk-0-key-investor-information)\n",
      "- [Chunk 1 — p. n/a: Charges](#chunk-1-charges)\n",
      "\n",
      "\n",
      "---\n",
      "\n",
      "<a id='chunk-0-key-investor-information'></a>\n",
      "\n",
      "## Chunk 0 — Page n/a\n",
      "\n",
      "# Key Investor Information\n",
      "\n",
      "# KEY INVESTOR INFORMATION\n",
      "\n",
      "This document provides you with key investor information about this Fund. It is not marketing material. The information is required by law to help you understand the nature and risks of investing in t\n",
      "...\n"
     ]
    }
   ],
   "source": [
    "if documents:\n",
    "    print(\"\\n📝 Converting to Markdown format...\")\n",
    "    print(\"=\" * 35)\n",
    "    \n",
    "    # Convert to markdown\n",
    "    markdown_content = parser.generate_markdown_output(documents)\n",
    "    \n",
    "    print(f\"\\n📄 Markdown conversion completed\")\n",
    "    print(f\"📊 Total markdown length: {len(markdown_content)} characters\")\n",
    "    \n",
    "    # Show a preview of the markdown\n",
    "    preview_length = 500\n",
    "    print(f\"\\n📖 Markdown Preview (first {preview_length} chars):\")\n",
    "    print(\"-\" * 50)\n",
    "    print(markdown_content[:preview_length])\n",
    "    if len(markdown_content) > preview_length:\n",
    "        print(\"...\")\n",
    "else:\n",
    "    print(\"⚠️  No documents to convert - skipping markdown conversion\")\n",
    "    markdown_content = \"\""
   ]
  },
  {
   "cell_type": "code",
   "execution_count": 8,
   "metadata": {},
   "outputs": [
    {
     "data": {
      "text/markdown": [
       "# Parsed Output\n",
       "## Table of Contents\n",
       "- [Chunk 0 — p. n/a: Key Investor Information](#chunk-0-key-investor-information)\n",
       "- [Chunk 1 — p. n/a: Charges](#chunk-1-charges)\n",
       "\n",
       "\n",
       "---\n",
       "\n",
       "<a id='chunk-0-key-investor-information'></a>\n",
       "\n",
       "## Chunk 0 — Page n/a\n",
       "\n",
       "# Key Investor Information\n",
       "\n",
       "# KEY INVESTOR INFORMATION\n",
       "\n",
       "This document provides you with key investor information about this Fund. It is not marketing material. The information is required by law to help you understand the nature and risks of investing in this Fund. You are advised to read it so you can make an informed decision about whether to invest.\n",
       "\n",
       "# iShares S&P 500 EUR Hedged UCITS ETF\n",
       "\n",
       "Exchange Traded Fund (ETF) (Acc)\n",
       "\n",
       "ISIN: IE00B3ZW0K18\n",
       "\n",
       "Manager: BlackRock Asset Management Ireland Limited\n",
       "\n",
       "A sub-fund of iShares V plc\n",
       "\n",
       "# Objectives and Investment Policy\n",
       "\n",
       "The Fund aims to achieve a return on your investment, through a combination of capital growth and income on the Fund’s assets, which reflects the return of S&P 500 EUR Hedged, the Fund’s benchmark index (Index).\n",
       "\n",
       "The Index provides a return on the S&P 500 which measures the performance of the large-cap sector (i.e. leading companies with large market capitalisations) of the United States market. Market capitalisation is the share price multiplied by the number of shares issued. Companies are included in the Index based on a free float market capitalisation weighted basis. Free float means that only shares available to international investors, rather than all of a company’s issued shares, are used to calculate the Index. Free float market capitalisation is the share price of a company multiplied by the number of shares available to international Investors. The Index also uses one month foreign exchange (FX) forward contracts to hedge each non-Euro currency in the Index back to Euro in accordance with the S&P Hedged Indices methodology. Hedging reduces the effect of fluctuations in the exchange rates between the currencies of the equity securities (e.g. shares) that make up the Index and Euro, the base currency of the Fund.\n",
       "\n",
       "The Fund is passively managed and aims to invest in equity securities (e.g. shares) that, so far as possible and practicable, make up the S&P 500, as well as FX forward contracts that, so far as possible and practicable, track the hedging methodology of the Index.\n",
       "\n",
       "The Fund intends to replicate the Index by holding the equity securities which make up the Index, in similar proportions to it. The investment manager may use financial derivative instruments (“FDIs“) (i.e. investments the prices of which are based on one or more underlying assets) for direct investment purposes to produce a similar return to its Index.\n",
       "\n",
       "The Fund may also engage in short-term secured lending of its investments to certain eligible third parties to generate additional income to off-set the costs of the Fund.\n",
       "\n",
       "Recommendation: This Fund is suitable for medium to long term investment, though the Fund may also be suitable for shorter term exposure to the Index.\n",
       "\n",
       "Your shares will be accumulating shares (i.e. income will be included in their value).\n",
       "\n",
       "The Fund’s base currency is Euro.\n",
       "\n",
       "The shares are listed on one or more stock exchanges and may be traded in currencies other than their base currency. The performance of your shares may be affected by this currency difference. In normal circumstances, only authorised participants (e.g. select financial institutions) may deal in shares (or interests in shares) directly with the Fund. Other investors can deal in shares (or interests in shares) daily through an intermediary on stock exchange(s) on which the shares are traded.\n",
       "\n",
       "Indicative net asset value is published on relevant stock exchanges websites.\n",
       "\n",
       "For more information on the Fund, share/unit classes, risks and charges, please see the Fund's prospectus, available on the product pages at www.blackrock.com\n",
       "\n",
       "# Risk and Reward Profile\n",
       "\n",
       "| Lower risk              | Higher risk              |\n",
       "| ----------------------- | ------------------------ |\n",
       "| Typically lower rewards | Typically higher rewards |\n",
       "\n",
       "The value of equities and equity-related securities can be affected by daily stock market movements. Other influential factors include political, economic news, company earnings and significant corporate events.\n",
       "\n",
       "Particular risks not adequately captured by the risk indicator include:\n",
       "\n",
       "- Counterparty Risk: The insolvency of any institutions providing services such as safekeeping of assets or acting as counterparty to derivatives or other instruments, may expose the Fund to financial loss.\n",
       "- Currency hedging may not completely eliminate currency risk in the Fund, and may affect the performance of the Fund.\n",
       "\n",
       "This indicator is based on historical data and may not be a reliable indication of the future risk profile of the Fund. The risk category shown is not guaranteed and may change over time. The lowest category does not mean risk free. The Fund is rated six due to the nature of its investments which include the risks listed below. These factors may impact the value of the Fund’s investments or expose the Fund to losses.\n",
       "\n",
       "The benchmark is the intellectual property of the index provider. The Fund is not sponsored or endorsed by the index provider. Please refer to the Fund's prospectus for full disclaimer.\n",
       "\n",
       "1  2  3  5  6  7\n",
       "\n",
       "\n",
       "---\n",
       "\n",
       "<a id='chunk-1-charges'></a>\n",
       "\n",
       "## Chunk 1 — Page n/a\n",
       "\n",
       "# Charges\n",
       "\n",
       "The charges are used to pay the costs of running the Fund, including the costs of marketing and distributing it. These charges reduce the potential growth of your investment.\n",
       "\n",
       "*Not applicable to secondary market investors. Investors dealing on a stock exchange will pay fees charged by their stock brokers. Such charges are publicly available on exchanges on which the shares are listed and traded, or can be obtained from stock brokers.*\n",
       "\n",
       "*Authorised participants dealing directly with the Fund will pay related transaction costs including, on redemptions, any applicable capital gains tax (CGT) and other taxes on underlying securities.*\n",
       "\n",
       "The ongoing charges figure is based on the fixed annualised fee charged to the Fund as set out in the Fund’s prospectus. This figure excludes portfolio trade-related costs, except costs paid to the depositary and any entry/exit charge paid to an underlying collective investment scheme (if any).\n",
       "\n",
       "# # One-off charges taken before or after you invest\n",
       "\n",
       "| Charge Type       | Amount  |\n",
       "|-------------------|---------|\n",
       "| Entry Charge      | None*   |\n",
       "| Exit Charge       | None*   |\n",
       "\n",
       "*This is the maximum that might be taken out of your money before it is invested or before proceeds of your investments are paid out.*\n",
       "\n",
       "# # Charges taken from the Fund over each year\n",
       "\n",
       "| Charge Type       | Amount  |\n",
       "|-------------------|---------|\n",
       "| Ongoing Charges    | 0.20%** |\n",
       "\n",
       "# # Charges taken from the Fund under certain conditions\n",
       "\n",
       "| Charge Type       | Amount  |\n",
       "|-------------------|---------|\n",
       "| Performance Fee    | None    |\n",
       "\n",
       "# # Past Performance\n",
       "\n",
       "Past performance is not a guide to future performance. The chart shows the Fund's annual performance in EUR for each full calendar year over the period displayed in the chart. It is expressed as a percentage change of the Fund's net asset value at each year-end. The Fund was launched in 2010. Performance is shown after deduction of ongoing charges. Any entry/exit charges are excluded from the calculation.\n",
       "\n",
       "† Benchmark: S&P 500. For the full name of the benchmark, please see the Objectives and Investment Policy section.\n",
       "\n",
       "| Year  | Fund (%) | Benchmark † (%) |\n",
       "|-------|----------|------------------|\n",
       "| 2015  | 0.2      | 0.3              |\n",
       "| 2016  | 9.6      | 9.6              |\n",
       "| 2017  | 18.8     | 18.7             |\n",
       "| 2018  | -7.7     | -7.8             |\n",
       "| 2019  | 27.0     | 26.8             |\n",
       "| 2020  | 15.2     | 15.1             |\n",
       "| 2021  | 27.0     | 27.0             |\n",
       "| 2022  | -20.9    | -21.0            |\n",
       "| 2023  | 22.4     | 22.2             |\n",
       "| 2024  | 22.5     | 22.5             |\n",
       "\n",
       "# # Practical Information\n",
       "\n",
       "- The depositary of the Fund is State Street Custodial Services (Ireland) Limited.\n",
       "- Further information about the Fund can be obtained from the latest annual report and half-yearly reports of iShares V plc. These documents are available free of charge in English and certain other languages. These can be found, along with other information, such as details of the key underlying investments of the Fund and share prices, on the iShares website at www.ishares.com or by calling +44 (0)207 743 2030 or from your broker or financial adviser.\n",
       "- Investors should note that the tax legislation that applies to the Fund may have an impact on the personal tax position of your investment in the Fund.\n",
       "- The Fund is a sub-fund of iShares V plc, an umbrella structure comprising different sub-funds. This document is specific to the Fund stated at the beginning of this document. However, the prospectus, annual and half-yearly reports are prepared for the umbrella.\n",
       "- iShares V plc may be held liable solely on the basis of any statement contained in this document that is misleading, inaccurate or inconsistent with the relevant parts of the Fund's prospectus.\n",
       "- The indicative intra-day net asset value of the Fund is published on relevant stock exchanges websites.\n",
       "- Under Irish law, iShares V plc has segregated liability between its sub-funds (i.e. the Fund’s assets will not be used to discharge the liabilities of other sub-funds within iShares V plc). In addition, the Fund’s assets are held separately from the assets of other sub-funds.\n",
       "- Switching of shares between the Fund and other sub-funds within iShares V plc is not available to investors.\n",
       "- The Remuneration Policy of the Management Company, which describes how remuneration and benefits are determined and awarded, and the associated governance arrangements, is available at www.blackrock.com/Remunerationpolicy or on request from the registered office of the Management Company.\n",
       "\n",
       "This Fund and its manager, BlackRock Asset Management Ireland Limited, are authorised in Ireland and regulated by the Central Bank of Ireland. This Key Investor Information is accurate as at 22 August 2025.\n"
      ],
      "text/plain": [
       "<IPython.core.display.Markdown object>"
      ]
     },
     "metadata": {},
     "output_type": "display_data"
    }
   ],
   "source": [
    "from IPython.display import display, Markdown\n",
    "\n",
    "\n",
    "# Use the display function with the Markdown class to render the output\n",
    "display(Markdown(markdown_content))"
   ]
  },
  {
   "cell_type": "markdown",
   "metadata": {},
   "source": [
    "## Content Analysis\n",
    "\n",
    "Analyze the structure and content of the parsed markdown."
   ]
  },
  {
   "cell_type": "code",
   "execution_count": 9,
   "metadata": {},
   "outputs": [
    {
     "name": "stdout",
     "output_type": "stream",
     "text": [
      "\n",
      "📋 Content Structure Analysis:\n",
      "===================================\n",
      "📊 Structure Summary:\n",
      "   Total lines: 142\n",
      "   Headers: 15\n",
      "   Content paragraphs: 46\n",
      "   Table lines: 25\n",
      "\n",
      "📑 Document Structure (Headers):\n",
      "   # Parsed Output\n",
      "     ## Table of Contents\n",
      "     ## Chunk 0 — Page n/a\n",
      "   # Key Investor Information\n",
      "   # KEY INVESTOR INFORMATION\n",
      "   # iShares S&P 500 EUR Hedged UCITS ETF\n",
      "   # Objectives and Investment Policy\n",
      "   # Risk and Reward Profile\n",
      "     ## Chunk 1 — Page n/a\n",
      "   # Charges\n",
      "   ... and 5 more headers\n"
     ]
    }
   ],
   "source": [
    "if markdown_content:\n",
    "    print(\"\\n📋 Content Structure Analysis:\")\n",
    "    print(\"=\" * 35)\n",
    "    \n",
    "    # Count different markdown elements\n",
    "    lines = markdown_content.split('\\n')\n",
    "    \n",
    "    headers = [line for line in lines if line.strip().startswith('#')]\n",
    "    paragraphs = [line for line in lines if line.strip() and not line.strip().startswith('#') and not line.strip().startswith('|')]\n",
    "    tables = [line for line in lines if '|' in line]\n",
    "    \n",
    "    print(f\"📊 Structure Summary:\")\n",
    "    print(f\"   Total lines: {len(lines)}\")\n",
    "    print(f\"   Headers: {len(headers)}\")\n",
    "    print(f\"   Content paragraphs: {len(paragraphs)}\")\n",
    "    print(f\"   Table lines: {len(tables)}\")\n",
    "    \n",
    "    # Show headers structure\n",
    "    if headers:\n",
    "        print(f\"\\n📑 Document Structure (Headers):\")\n",
    "        for header in headers[:10]:  # Show first 10 headers\n",
    "            level = len(header) - len(header.lstrip('#'))\n",
    "            title = header.strip('#').strip()\n",
    "            indent = \"  \" * (level - 1)\n",
    "            print(f\"   {indent}{'#' * level} {title}\")\n",
    "        if len(headers) > 10:\n",
    "            print(f\"   ... and {len(headers) - 10} more headers\")\n",
    "else:\n",
    "    print(\"⚠️  No markdown content to analyze\")"
   ]
  },
  {
   "cell_type": "markdown",
   "metadata": {},
   "source": [
    "## Save Results\n",
    "\n",
    "Save the processed markdown content to a file for further use."
   ]
  },
  {
   "cell_type": "code",
   "execution_count": 10,
   "metadata": {},
   "outputs": [
    {
     "name": "stdout",
     "output_type": "stream",
     "text": [
      "\n",
      "💾 Markdown saved to: ../data/processed/Ishares-SP500KIID_llamaparse_notebook.md\n",
      "📁 File size: 9.9 KB\n",
      "📋 Metadata saved to: ../data/processed/Ishares-SP500KIID_llamaparse_notebook_metadata.json\n"
     ]
    }
   ],
   "source": [
    "if markdown_content:\n",
    "    # Save markdown results\n",
    "    output_filename = f\"{Path(PDF_FILE).stem}_llamaparse_notebook.md\"\n",
    "    output_path = OUTPUT_DIR / output_filename\n",
    "    \n",
    "    with open(output_path, 'w', encoding='utf-8') as f:\n",
    "        f.write(markdown_content)\n",
    "    \n",
    "    print(f\"\\n💾 Markdown saved to: {output_path}\")\n",
    "    print(f\"📁 File size: {output_path.stat().st_size / 1024:.1f} KB\")\n",
    "    \n",
    "    # Also save metadata as JSON\n",
    "    metadata = {\n",
    "        \"source_file\": PDF_FILE,\n",
    "        \"parser\": \"LlamaParse\",\n",
    "        \"processing_time\": parsing_time,\n",
    "        \"document_count\": len(documents),\n",
    "        \"markdown_length\": len(markdown_content),\n",
    "        \"timestamp\": time.strftime(\"%Y-%m-%d %H:%M:%S\")\n",
    "    }\n",
    "    \n",
    "    metadata_path = OUTPUT_DIR / f\"{Path(PDF_FILE).stem}_llamaparse_notebook_metadata.json\"\n",
    "    with open(metadata_path, 'w', encoding='utf-8') as f:\n",
    "        json.dump(metadata, f, indent=2)\n",
    "    \n",
    "    print(f\"📋 Metadata saved to: {metadata_path}\")\n",
    "else:\n",
    "    print(\"⚠️  No content to save\")"
   ]
  },
  {
   "cell_type": "markdown",
   "metadata": {},
   "source": [
    "## Performance Analysis\n",
    "\n",
    "Analyze the performance characteristics of the LlamaParse parsing pipeline."
   ]
  },
  {
   "cell_type": "code",
   "execution_count": 11,
   "metadata": {},
   "outputs": [
    {
     "name": "stdout",
     "output_type": "stream",
     "text": [
      "\n",
      "⚡ PERFORMANCE ANALYSIS\n",
      "==============================\n",
      "📄 Input file size: 0.16 MB\n",
      "⏱️  Total processing time: 7.65 seconds\n",
      "⚡ Processing speed: 1323 chars/second\n",
      "⚡ Throughput: 0.02 MB/second\n",
      "💾 Output size: 0.01 MB\n",
      "📉 Compression ratio: 16.7x\n",
      "📝 Word count: 1,616\n",
      "📊 Words per MB: 9960\n"
     ]
    }
   ],
   "source": [
    "if documents:\n",
    "    total_time = time.time() - start_time\n",
    "    \n",
    "    print(\"\\n⚡ PERFORMANCE ANALYSIS\")\n",
    "    print(\"=\" * 30)\n",
    "    \n",
    "    file_size_mb = os.path.getsize(PDF_FILE) / (1024 * 1024)\n",
    "    chars_per_second = len(markdown_content) / total_time if total_time > 0 else 0\n",
    "    mb_per_second = file_size_mb / total_time if total_time > 0 else 0\n",
    "    \n",
    "    print(f\"📄 Input file size: {file_size_mb:.2f} MB\")\n",
    "    print(f\"⏱️  Total processing time: {total_time:.2f} seconds\")\n",
    "    print(f\"⚡ Processing speed: {chars_per_second:.0f} chars/second\")\n",
    "    print(f\"⚡ Throughput: {mb_per_second:.2f} MB/second\")\n",
    "    \n",
    "    # Quality metrics\n",
    "    if markdown_content:\n",
    "        output_size_mb = len(markdown_content.encode('utf-8')) / (1024 * 1024)\n",
    "        compression_ratio = file_size_mb / output_size_mb if output_size_mb > 0 else 0\n",
    "        print(f\"💾 Output size: {output_size_mb:.2f} MB\")\n",
    "        print(f\"📉 Compression ratio: {compression_ratio:.1f}x\")\n",
    "        \n",
    "        # Content density\n",
    "        words = len(markdown_content.split())\n",
    "        print(f\"📝 Word count: {words:,}\")\n",
    "        print(f\"📊 Words per MB: {words/file_size_mb:.0f}\")\n",
    "else:\n",
    "    print(\"⚠️  No performance data available due to parsing failure\")"
   ]
  },
  {
   "cell_type": "markdown",
   "metadata": {},
   "source": [
    "## Results Summary\n",
    "\n",
    "Display comprehensive results from the LlamaParse parsing pipeline."
   ]
  },
  {
   "cell_type": "code",
   "execution_count": 12,
   "metadata": {},
   "outputs": [
    {
     "name": "stdout",
     "output_type": "stream",
     "text": [
      "\n",
      "📊 FINAL RESULTS SUMMARY\n",
      "==================================================\n",
      "📄 Document: Ishares-SP500KIID.pdf\n",
      "🦙 Parser: LlamaParse (AI-powered)\n",
      "⏱️  Total Processing Time: 7.65 seconds\n",
      "✅ Status: Successfully processed\n",
      "\n",
      "📋 Content Summary:\n",
      "   - Documents extracted: 2\n",
      "   - Markdown length: 10,129 characters\n",
      "   - Word count: 1,616 words\n",
      "   - Headers found: 15\n",
      "   - Table lines: 25\n",
      "\n",
      "💾 Output Files:\n",
      "   - Markdown: ../data/processed/Ishares-SP500KIID_llamaparse_notebook.md\n",
      "   - Metadata: ../data/processed/Ishares-SP500KIID_llamaparse_notebook_metadata.json\n"
     ]
    }
   ],
   "source": [
    "print(\"\\n📊 FINAL RESULTS SUMMARY\")\n",
    "print(\"=\" * 50)\n",
    "\n",
    "if documents:\n",
    "    print(f\"📄 Document: {os.path.basename(PDF_FILE)}\")\n",
    "    print(f\"🦙 Parser: LlamaParse (AI-powered)\")\n",
    "    print(f\"⏱️  Total Processing Time: {total_time:.2f} seconds\")\n",
    "    print(f\"✅ Status: Successfully processed\")\n",
    "    print()\n",
    "    print(f\"📋 Content Summary:\")\n",
    "    print(f\"   - Documents extracted: {len(documents)}\")\n",
    "    print(f\"   - Markdown length: {len(markdown_content):,} characters\")\n",
    "    print(f\"   - Word count: {len(markdown_content.split()):,} words\")\n",
    "    \n",
    "    if headers:\n",
    "        print(f\"   - Headers found: {len(headers)}\")\n",
    "    if tables:\n",
    "        print(f\"   - Table lines: {len(tables)}\")\n",
    "    \n",
    "    print(f\"\\n💾 Output Files:\")\n",
    "    if 'output_path' in locals():\n",
    "        print(f\"   - Markdown: {output_path}\")\n",
    "    if 'metadata_path' in locals():\n",
    "        print(f\"   - Metadata: {metadata_path}\")\n",
    "else:\n",
    "    print(f\"📄 Document: {os.path.basename(PDF_FILE)}\")\n",
    "    print(f\"🦙 Parser: LlamaParse (AI-powered)\")\n",
    "    print(f\"❌ Status: Processing failed\")\n",
    "    print(f\"⚠️  Please check your API key configuration\")"
   ]
  },
  {
   "cell_type": "markdown",
   "metadata": {},
   "source": [
    "Now lets extract the different chunks from the parsed pdf"
   ]
  },
  {
   "cell_type": "code",
   "execution_count": 21,
   "metadata": {},
   "outputs": [
    {
     "data": {
      "text/plain": [
       "\"# Parsed Output\\n## Table of Contents\\n- [Chunk 0 — p. n/a: Key Investor Information](#chunk-0-key-investor-information)\\n- [Chunk 1 — p. n/a: Charges](#chunk-1-charges)\\n\\n\\n---\\n\\n<a id='chunk-0-key-investor-information'></a>\\n\\n## Chunk 0 — Page n/a\\n\\n# Key Investor Information\\n\\n# KEY INVESTOR INFORMATION\\n\\nThis document provides you with key investor information about this Fund. It is not marketing material. The information is required by law to help you understand the nature and risks of investing in this Fund. You are advised to read it so you can make an informed decision about whether to invest.\\n\\n# iShares S&P 500 EUR Hedged UCITS ETF\\n\\nExchange Traded Fund (ETF) (Acc)\\n\\nISIN: IE00B3ZW0K18\\n\\nManager: BlackRock Asset Management Ireland Limited\\n\\nA sub-fund of iShares V plc\\n\\n# Objectives and Investment Policy\\n\\nThe Fund aims to achieve a return on your investment, through a combination of capital growth and income on the Fund’s assets, which reflects the return of S&P 500 EUR Hedged, the Fund’s benchmark index (Index).\\n\\nThe Index provides a return on the S&P 500 which measures the performance of the large-cap sector (i.e. leading companies with large market capitalisations) of the United States market. Market capitalisation is the share price multiplied by the number of shares issued. Companies are included in the Index based on a free float market capitalisation weighted basis. Free float means that only shares available to international investors, rather than all of a company’s issued shares, are used to calculate the Index. Free float market capitalisation is the share price of a company multiplied by the number of shares available to international Investors. The Index also uses one month foreign exchange (FX) forward contracts to hedge each non-Euro currency in the Index back to Euro in accordance with the S&P Hedged Indices methodology. Hedging reduces the effect of fluctuations in the exchange rates between the currencies of the equity securities (e.g. shares) that make up the Index and Euro, the base currency of the Fund.\\n\\nThe Fund is passively managed and aims to invest in equity securities (e.g. shares) that, so far as possible and practicable, make up the S&P 500, as well as FX forward contracts that, so far as possible and practicable, track the hedging methodology of the Index.\\n\\nThe Fund intends to replicate the Index by holding the equity securities which make up the Index, in similar proportions to it. The investment manager may use financial derivative instruments (“FDIs“) (i.e. investments the prices of which are based on one or more underlying assets) for direct investment purposes to produce a similar return to its Index.\\n\\nThe Fund may also engage in short-term secured lending of its investments to certain eligible third parties to generate additional income to off-set the costs of the Fund.\\n\\nRecommendation: This Fund is suitable for medium to long term investment, though the Fund may also be suitable for shorter term exposure to the Index.\\n\\nYour shares will be accumulating shares (i.e. income will be included in their value).\\n\\nThe Fund’s base currency is Euro.\\n\\nThe shares are listed on one or more stock exchanges and may be traded in currencies other than their base currency. The performance of your shares may be affected by this currency difference. In normal circumstances, only authorised participants (e.g. select financial institutions) may deal in shares (or interests in shares) directly with the Fund. Other investors can deal in shares (or interests in shares) daily through an intermediary on stock exchange(s) on which the shares are traded.\\n\\nIndicative net asset value is published on relevant stock exchanges websites.\\n\\nFor more information on the Fund, share/unit classes, risks and charges, please see the Fund's prospectus, available on the product pages at www.blackrock.com\\n\\n# Risk and Reward Profile\\n\\n| Lower risk              | Higher risk              |\\n| ----------------------- | ------------------------ |\\n| Typically lower rewards | Typically higher rewards |\\n\\nThe value of equities and equity-related securities can be affected by daily stock market movements. Other influential factors include political, economic news, company earnings and significant corporate events.\\n\\nParticular risks not adequately captured by the risk indicator include:\\n\\n- Counterparty Risk: The insolvency of any institutions providing services such as safekeeping of assets or acting as counterparty to derivatives or other instruments, may expose the Fund to financial loss.\\n- Currency hedging may not completely eliminate currency risk in the Fund, and may affect the performance of the Fund.\\n\\nThis indicator is based on historical data and may not be a reliable indication of the future risk profile of the Fund. The risk category shown is not guaranteed and may change over time. The lowest category does not mean risk free. The Fund is rated six due to the nature of its investments which include the risks listed below. These factors may impact the value of the Fund’s investments or expose the Fund to losses.\\n\\nThe benchmark is the intellectual property of the index provider. The Fund is not sponsored or endorsed by the index provider. Please refer to the Fund's prospectus for full disclaimer.\\n\\n1  2  3  5  6  7\\n\\n\\n---\\n\\n<a id='chunk-1-charges'></a>\\n\\n## Chunk 1 — Page n/a\\n\\n# Charges\\n\\nThe charges are used to pay the costs of running the Fund, including the costs of marketing and distributing it. These charges reduce the potential growth of your investment.\\n\\n*Not applicable to secondary market investors. Investors dealing on a stock exchange will pay fees charged by their stock brokers. Such charges are publicly available on exchanges on which the shares are listed and traded, or can be obtained from stock brokers.*\\n\\n*Authorised participants dealing directly with the Fund will pay related transaction costs including, on redemptions, any applicable capital gains tax (CGT) and other taxes on underlying securities.*\\n\\nThe ongoing charges figure is based on the fixed annualised fee charged to the Fund as set out in the Fund’s prospectus. This figure excludes portfolio trade-related costs, except costs paid to the depositary and any entry/exit charge paid to an underlying collective investment scheme (if any).\\n\\n# # One-off charges taken before or after you invest\\n\\n| Charge Type       | Amount  |\\n|-------------------|---------|\\n| Entry Charge      | None*   |\\n| Exit Charge       | None*   |\\n\\n*This is the maximum that might be taken out of your money before it is invested or before proceeds of your investments are paid out.*\\n\\n# # Charges taken from the Fund over each year\\n\\n| Charge Type       | Amount  |\\n|-------------------|---------|\\n| Ongoing Charges    | 0.20%** |\\n\\n# # Charges taken from the Fund under certain conditions\\n\\n| Charge Type       | Amount  |\\n|-------------------|---------|\\n| Performance Fee    | None    |\\n\\n# # Past Performance\\n\\nPast performance is not a guide to future performance. The chart shows the Fund's annual performance in EUR for each full calendar year over the period displayed in the chart. It is expressed as a percentage change of the Fund's net asset value at each year-end. The Fund was launched in 2010. Performance is shown after deduction of ongoing charges. Any entry/exit charges are excluded from the calculation.\\n\\n† Benchmark: S&P 500. For the full name of the benchmark, please see the Objectives and Investment Policy section.\\n\\n| Year  | Fund (%) | Benchmark † (%) |\\n|-------|----------|------------------|\\n| 2015  | 0.2      | 0.3              |\\n| 2016  | 9.6      | 9.6              |\\n| 2017  | 18.8     | 18.7             |\\n| 2018  | -7.7     | -7.8             |\\n| 2019  | 27.0     | 26.8             |\\n| 2020  | 15.2     | 15.1             |\\n| 2021  | 27.0     | 27.0             |\\n| 2022  | -20.9    | -21.0            |\\n| 2023  | 22.4     | 22.2             |\\n| 2024  | 22.5     | 22.5             |\\n\\n# # Practical Information\\n\\n- The depositary of the Fund is State Street Custodial Services (Ireland) Limited.\\n- Further information about the Fund can be obtained from the latest annual report and half-yearly reports of iShares V plc. These documents are available free of charge in English and certain other languages. These can be found, along with other information, such as details of the key underlying investments of the Fund and share prices, on the iShares website at www.ishares.com or by calling +44 (0)207 743 2030 or from your broker or financial adviser.\\n- Investors should note that the tax legislation that applies to the Fund may have an impact on the personal tax position of your investment in the Fund.\\n- The Fund is a sub-fund of iShares V plc, an umbrella structure comprising different sub-funds. This document is specific to the Fund stated at the beginning of this document. However, the prospectus, annual and half-yearly reports are prepared for the umbrella.\\n- iShares V plc may be held liable solely on the basis of any statement contained in this document that is misleading, inaccurate or inconsistent with the relevant parts of the Fund's prospectus.\\n- The indicative intra-day net asset value of the Fund is published on relevant stock exchanges websites.\\n- Under Irish law, iShares V plc has segregated liability between its sub-funds (i.e. the Fund’s assets will not be used to discharge the liabilities of other sub-funds within iShares V plc). In addition, the Fund’s assets are held separately from the assets of other sub-funds.\\n- Switching of shares between the Fund and other sub-funds within iShares V plc is not available to investors.\\n- The Remuneration Policy of the Management Company, which describes how remuneration and benefits are determined and awarded, and the associated governance arrangements, is available at www.blackrock.com/Remunerationpolicy or on request from the registered office of the Management Company.\\n\\nThis Fund and its manager, BlackRock Asset Management Ireland Limited, are authorised in Ireland and regulated by the Central Bank of Ireland. This Key Investor Information is accurate as at 22 August 2025.\\n\""
      ]
     },
     "execution_count": 21,
     "metadata": {},
     "output_type": "execute_result"
    }
   ],
   "source": [
    "markdown_content"
   ]
  },
  {
   "cell_type": "code",
   "execution_count": 27,
   "metadata": {},
   "outputs": [
    {
     "name": "stdout",
     "output_type": "stream",
     "text": [
      "✅ Successfully split the document into 2 chunks using the heading method.\n",
      "\n",
      "--- First Chunk (Chunk 0) ---\n",
      "## Chunk 0 — Page n/a\n",
      "\n",
      "# Key Investor Information\n",
      "\n",
      "# KEY INVESTOR INFORMATION\n",
      "\n",
      "This document provides you with key investor information about this Fund. It is not marketing material. The information is required by law to help you understand the nature and risks of investing in this Fund. You are advised to read it so you can make an informed decision about whether to invest.\n",
      "\n",
      "# iShares S&P 500 EUR Hedged UCITS ETF\n",
      "\n",
      "Exchange Traded Fund (ETF) (Acc)\n",
      "\n",
      "ISIN: IE00B3ZW0K18\n",
      "\n",
      "Manager: BlackRock Asset Management Ireland Limited\n",
      "\n",
      "A sub-fund of iShares V plc\n",
      "\n",
      "# Objectives and Investment Policy\n",
      "\n",
      "The Fund aims to achieve a return on your investment, through a combination of capital growth and income on the Fund’s assets, which reflects the return of S&P 500 EUR Hedged, the Fund’s benchmark index (Index).\n",
      "\n",
      "The Index provides a return on the S&P 500 which measures the performance of the large-cap sector (i.e. leading companies with large market capitalisations) of the United States market. Market capitalisation is the share price multiplied by the number of shares issued. Companies are included in the Index based on a free float market capitalisation weighted basis. Free float means that only shares available to international investors, rather than all of a company’s issued shares, are used to calculate the Index. Free float market capitalisation is the share price of a company multiplied by the number of shares available to international Investors. The Index also uses one month foreign exchange (FX) forward contracts to hedge each non-Euro currency in the Index back to Euro in accordance with the S&P Hedged Indices methodology. Hedging reduces the effect of fluctuations in the exchange rates between the currencies of the equity securities (e.g. shares) that make up the Index and Euro, the base currency of the Fund.\n",
      "\n",
      "The Fund is passively managed and aims to invest in equity securities (e.g. shares) that, so far as possible and practicable, make up the S&P 500, as well as FX forward contracts that, so far as possible and practicable, track the hedging methodology of the Index.\n",
      "\n",
      "The Fund intends to replicate the Index by holding the equity securities which make up the Index, in similar proportions to it. The investment manager may use financial derivative instruments (“FDIs“) (i.e. investments the prices of which are based on one or more underlying assets) for direct investment purposes to produce a similar return to its Index.\n",
      "\n",
      "The Fund may also engage in short-term secured lending of its investments to certain eligible third parties to generate additional income to off-set the costs of the Fund.\n",
      "\n",
      "Recommendation: This Fund is suitable for medium to long term investment, though the Fund may also be suitable for shorter term exposure to the Index.\n",
      "\n",
      "Your shares will be accumulating shares (i.e. income will be included in their value).\n",
      "\n",
      "The Fund’s base currency is Euro.\n",
      "\n",
      "The shares are listed on one or more stock exchanges and may be traded in currencies other than their base currency. The performance of your shares may be affected by this currency difference. In normal circumstances, only authorised participants (e.g. select financial institutions) may deal in shares (or interests in shares) directly with the Fund. Other investors can deal in shares (or interests in shares) daily through an intermediary on stock exchange(s) on which the shares are traded.\n",
      "\n",
      "Indicative net asset value is published on relevant stock exchanges websites.\n",
      "\n",
      "For more information on the Fund, share/unit classes, risks and charges, please see the Fund's prospectus, available on the product pages at www.blackrock.com\n",
      "\n",
      "# Risk and Reward Profile\n",
      "\n",
      "| Lower risk              | Higher risk              |\n",
      "| ----------------------- | ------------------------ |\n",
      "| Typically lower rewards | Typically higher rewards |\n",
      "\n",
      "The value of equities and equity-related securities can be affected by daily stock market movements. Other influential factors include political, economic news, company earnings and significant corporate events.\n",
      "\n",
      "Particular risks not adequately captured by the risk indicator include:\n",
      "\n",
      "- Counterparty Risk: The insolvency of any institutions providing services such as safekeeping of assets or acting as counterparty to derivatives or other instruments, may expose the Fund to financial loss.\n",
      "- Currency hedging may not completely eliminate currency risk in the Fund, and may affect the performance of the Fund.\n",
      "\n",
      "This indicator is based on historical data and may not be a reliable indication of the future risk profile of the Fund. The risk category shown is not guaranteed and may change over time. The lowest category does not mean risk free. The Fund is rated six due to the nature of its investments which include the risks listed below. These factors may impact the value of the Fund’s investments or expose the Fund to losses.\n",
      "\n",
      "The benchmark is the intellectual property of the index provider. The Fund is not sponsored or endorsed by the index provider. Please refer to the Fund's prospectus for full disclaimer.\n",
      "\n",
      "1  2  3  5  6  7\n",
      "\n",
      "\n",
      "---\n",
      "\n",
      "<a id='chunk-1-charges'></a>\n",
      "\n",
      "--- Second Chunk (Chunk 1) ---\n",
      "## Chunk 1 — Page n/a\n",
      "\n",
      "# Charges\n",
      "\n",
      "The charges are used to pay the costs of running the Fund, including the costs of marketing and distributing it. These charges reduce the potential growth of your investment.\n",
      "\n",
      "*Not applicable to secondary market investors. Investors dealing on a stock exchange will pay fees charged by their stock brokers. Such charges are publicly available on exchanges on which the shares are listed and traded, or can be obtained from stock brokers.*\n",
      "\n",
      "*Authorised participants dealing directly with the Fund will pay related transaction costs including, on redemptions, any applicable capital gains tax (CGT) and other taxes on underlying securities.*\n",
      "\n",
      "The ongoing charges figure is based on the fixed annualised fee charged to the Fund as set out in the Fund’s prospectus. This figure excludes portfolio trade-related costs, except costs paid to the depositary and any entry/exit charge paid to an underlying collective investment scheme (if any).\n",
      "\n",
      "# # One-off charges taken before or after you invest\n",
      "\n",
      "| Charge Type       | Amount  |\n",
      "|-------------------|---------|\n",
      "| Entry Charge      | None*   |\n",
      "| Exit Charge       | None*   |\n",
      "\n",
      "*This is the maximum that might be taken out of your money before it is invested or before proceeds of your investments are paid out.*\n",
      "\n",
      "# # Charges taken from the Fund over each year\n",
      "\n",
      "| Charge Type       | Amount  |\n",
      "|-------------------|---------|\n",
      "| Ongoing Charges    | 0.20%** |\n",
      "\n",
      "# # Charges taken from the Fund under certain conditions\n",
      "\n",
      "| Charge Type       | Amount  |\n",
      "|-------------------|---------|\n",
      "| Performance Fee    | None    |\n",
      "\n",
      "# # Past Performance\n",
      "\n",
      "Past performance is not a guide to future performance. The chart shows the Fund's annual performance in EUR for each full calendar year over the period displayed in the chart. It is expressed as a percentage change of the Fund's net asset value at each year-end. The Fund was launched in 2010. Performance is shown after deduction of ongoing charges. Any entry/exit charges are excluded from the calculation.\n",
      "\n",
      "† Benchmark: S&P 500. For the full name of the benchmark, please see the Objectives and Investment Policy section.\n",
      "\n",
      "| Year  | Fund (%) | Benchmark † (%) |\n",
      "|-------|----------|------------------|\n",
      "| 2015  | 0.2      | 0.3              |\n",
      "| 2016  | 9.6      | 9.6              |\n",
      "| 2017  | 18.8     | 18.7             |\n",
      "| 2018  | -7.7     | -7.8             |\n",
      "| 2019  | 27.0     | 26.8             |\n",
      "| 2020  | 15.2     | 15.1             |\n",
      "| 2021  | 27.0     | 27.0             |\n",
      "| 2022  | -20.9    | -21.0            |\n",
      "| 2023  | 22.4     | 22.2             |\n",
      "| 2024  | 22.5     | 22.5             |\n",
      "\n",
      "# # Practical Information\n",
      "\n",
      "- The depositary of the Fund is State Street Custodial Services (Ireland) Limited.\n",
      "- Further information about the Fund can be obtained from the latest annual report and half-yearly reports of iShares V plc. These documents are available free of charge in English and certain other languages. These can be found, along with other information, such as details of the key underlying investments of the Fund and share prices, on the iShares website at www.ishares.com or by calling +44 (0)207 743 2030 or from your broker or financial adviser.\n",
      "- Investors should note that the tax legislation that applies to the Fund may have an impact on the personal tax position of your investment in the Fund.\n",
      "- The Fund is a sub-fund of iShares V plc, an umbrella structure comprising different sub-funds. This document is specific to the Fund stated at the beginning of this document. However, the prospectus, annual and half-yearly reports are prepared for the umbrella.\n",
      "- iShares V plc may be held liable solely on the basis of any statement contained in this document that is misleading, inaccurate or inconsistent with the relevant parts of the Fund's prospectus.\n",
      "- The indicative intra-day net asset value of the Fund is published on relevant stock exchanges websites.\n",
      "- Under Irish law, iShares V plc has segregated liability between its sub-funds (i.e. the Fund’s assets will not be used to discharge the liabilities of other sub-funds within iShares V plc). In addition, the Fund’s assets are held separately from the assets of other sub-funds.\n",
      "- Switching of shares between the Fund and other sub-funds within iShares V plc is not available to investors.\n",
      "- The Remuneration Policy of the Management Company, which describes how remuneration and benefits are determined and awarded, and the associated governance arrangements, is available at www.blackrock.com/Remunerationpolicy or on request from the registered office of the Management Company.\n",
      "\n",
      "This Fund and its manager, BlackRock Asset Management Ireland Limited, are authorised in Ireland and regulated by the Central Bank of Ireland. This Key Investor Information is accurate as at 22 August 2025.\n"
     ]
    }
   ],
   "source": [
    "import re\n",
    "\n",
    "def split_markdown_by_chunk_heading(markdown_content):\n",
    "    \"\"\"\n",
    "    Reads a markdown file and splits it into a list of chunks based on\n",
    "    '## Chunk [number]' headings.\n",
    "\n",
    "    This method is robust as it uses the semantic heading as a delimiter,\n",
    "    preserving the heading within each chunk.\n",
    "\n",
    "    Args:\n",
    "        content (str): The markdown content as a string.\n",
    "\n",
    "    Returns:\n",
    "        list: A list of strings, where each string is a content chunk.\n",
    "    \"\"\"\n",
    "    \n",
    "\n",
    "    # Regex pattern to find '## Chunk ' followed by one or more digits.\n",
    "    # The `(?=...)` is a positive lookahead assertion. It allows us to split\n",
    "    # the text *before* the pattern, keeping the delimiter ('## Chunk X')\n",
    "    # at the start of each new chunk.\n",
    "    content = markdown_content\n",
    "    pattern = r'(?im)(?=^\\s*##\\s*Chunk\\s*\\d+)'\n",
    "\n",
    "\n",
    "    first_match = re.search(pattern, content)\n",
    "        \n",
    "    if not first_match:\n",
    "        logging.warning(\"No chunk headings were found in the document.\")\n",
    "        return []\n",
    "        \n",
    "    # Slice the content to start from the beginning of the first found chunk\n",
    "    content_from_first_chunk = markdown_content[first_match.start():]\n",
    "    \n",
    "    \n",
    "    # Split the content using the regex pattern\n",
    "    chunks = re.split(pattern, content_from_first_chunk)\n",
    "\n",
    "    # The first element after split is often everything before the first chunk\n",
    "    # (like the Table of Contents), so we discard it.\n",
    "    # We also filter out any potential empty strings.\n",
    "    cleaned_chunks = [chunk.strip() for chunk in chunks if chunk and 'Chunk' in chunk]\n",
    "\n",
    "    return cleaned_chunks\n",
    "\n",
    "# --- How to use the script ---\n",
    "\n",
    "\n",
    "document_chunks = split_markdown_by_chunk_heading(markdown_content)\n",
    "\n",
    "if isinstance(document_chunks, list) and document_chunks:\n",
    "    print(f\"✅ Successfully split the document into {len(document_chunks)} chunks using the heading method.\")\n",
    "    print(\"\\n--- First Chunk (Chunk 0) ---\")\n",
    "    print(document_chunks[0])\n",
    "    if len(document_chunks) > 1:\n",
    "        print(\"\\n--- Second Chunk (Chunk 1) ---\")\n",
    "        print(document_chunks[1])\n",
    "else:\n",
    "    print(document_chunks if document_chunks else \"No chunks were found.\")"
   ]
  },
  {
   "cell_type": "markdown",
   "metadata": {},
   "source": []
  },
  {
   "cell_type": "code",
   "execution_count": 30,
   "metadata": {},
   "outputs": [
    {
     "name": "stdout",
     "output_type": "stream",
     "text": [
      "Initializing BGE embedding model...\n",
      "Model loaded successfully.\n",
      "\n",
      "📄 Preparing 2 text chunks for embedding...\n",
      "📊 Total documents to embed: 2\n",
      "\n",
      "🔄 Generating embeddings...\n"
     ]
    },
    {
     "name": "stderr",
     "output_type": "stream",
     "text": [
      "Embedding data in batches: 1it [00:00, 11.00it/s]"
     ]
    },
    {
     "name": "stdout",
     "output_type": "stream",
     "text": [
      "Embedding generation complete.\n",
      "\n",
      "✅ Total embeddings created for Qdrant: 2\n",
      "   - Embedding dimension: 1024\n",
      "\n",
      "📋 Sample embedding structure:\n",
      "   Entry 1:\n",
      "     Vector shape: 1024\n",
      "     Source document: processed_document.pdf\n",
      "     Page number: n/a\n",
      "     Chunk type: Text\n",
      "     Section title: chunk_0\n"
     ]
    },
    {
     "name": "stderr",
     "output_type": "stream",
     "text": [
      "\n"
     ]
    }
   ],
   "source": [
    "from simple_rag.embeddings.embedding import EmbedData\n",
    "\n",
    "model_name = \"BAAI/bge-large-en-v1.5\"\n",
    "batch_size = 64\n",
    "\n",
    "print(\"Initializing BGE embedding model...\")\n",
    "embed_model = EmbedData(model_name=model_name, batch_size=batch_size)\n",
    "print(\"Model loaded successfully.\")\n",
    "\n",
    "\n",
    "# 2. Prepare documents and metadata from your list of chunks\n",
    "print(f\"\\n📄 Preparing {len(document_chunks)} text chunks for embedding...\")\n",
    "\n",
    "documents_to_embed = []\n",
    "structured_data = []\n",
    "source_doc_name = \"processed_document.pdf\" # Define your source document name here\n",
    "\n",
    "for i, chunk_text in enumerate(document_chunks):\n",
    "    if chunk_text.strip():  # Only include non-empty chunks\n",
    "        documents_to_embed.append(chunk_text)\n",
    "        \n",
    "        # --- Metadata Extraction (Optional but recommended) ---\n",
    "        # Try to extract page number and title from the chunk header\n",
    "        page_match = re.search(r'Page\\s*(\\S+)', chunk_text)\n",
    "        page_number = page_match.group(1) if page_match else \"unknown\"\n",
    "        \n",
    "        title_match = re.search(r'##\\s*Chunk\\s*\\d+\\s*—.*?:\\s*(.*)', chunk_text)\n",
    "        section_title = title_match.group(1).strip() if title_match else f'chunk_{i}'\n",
    "        # ----------------------------------------------------\n",
    "\n",
    "        chunk_data = {\n",
    "            'text': chunk_text,\n",
    "            'source_document': source_doc_name,\n",
    "            'page_number': page_number,\n",
    "            'chunk_type': 'Text',\n",
    "            'section_title': section_title\n",
    "        }\n",
    "        structured_data.append(chunk_data)\n",
    "\n",
    "print(f\"📊 Total documents to embed: {len(documents_to_embed)}\")\n",
    "\n",
    "\n",
    "# 3. Embed the documents\n",
    "print(\"\\n🔄 Generating embeddings...\")\n",
    "# The embed_model.embed method likely modifies the object's .embeddings attribute\n",
    "embed_model.embed(documents_to_embed)\n",
    "print(\"Embedding generation complete.\")\n",
    "\n",
    "\n",
    "# 4. Create the final embeddings structure for Qdrant storage\n",
    "embeddings_for_qdrant = []\n",
    "# Ensure we have the same number of vectors and metadata entries\n",
    "if hasattr(embed_model, 'embeddings') and len(embed_model.embeddings) == len(structured_data):\n",
    "    for vector, data in zip(embed_model.embeddings, structured_data):\n",
    "        embedding_entry = {\n",
    "            'vector': {\n",
    "                'text_vector': vector # Convert numpy array to list for JSON serialization\n",
    "            },\n",
    "            'payload': data # The metadata is already in the correct format\n",
    "        }\n",
    "        embeddings_for_qdrant.append(embedding_entry)\n",
    "else:\n",
    "    print(\"❌ Error: Mismatch between number of embeddings and structured data.\")\n",
    "\n",
    "\n",
    "# 5. Inspect the output\n",
    "print(f\"\\n✅ Total embeddings created for Qdrant: {len(embeddings_for_qdrant)}\")\n",
    "if embeddings_for_qdrant:\n",
    "    print(f\"   - Embedding dimension: {len(embeddings_for_qdrant[0]['vector']['text_vector'])}\")\n",
    "\n",
    "    print(f\"\\n📋 Sample embedding structure:\")\n",
    "    # Show sample information for the first chunk\n",
    "    entry = embeddings_for_qdrant[0]\n",
    "    payload = entry['payload']\n",
    "    \n",
    "    print(f\"   Entry 1:\")\n",
    "    print(f\"     Vector shape: {len(entry['vector']['text_vector'])}\")\n",
    "    print(f\"     Source document: {payload['source_document']}\")\n",
    "    print(f\"     Page number: {payload['page_number']}\")\n",
    "    print(f\"     Chunk type: {payload['chunk_type']}\")\n",
    "    print(f\"     Section title: {payload['section_title']}\")"
   ]
  },
  {
   "cell_type": "markdown",
   "metadata": {},
   "source": [
    "Start the Qdrant database"
   ]
  },
  {
   "cell_type": "code",
   "execution_count": 33,
   "metadata": {},
   "outputs": [
    {
     "data": {
      "text/plain": [
       "<Popen: returncode: None args: 'docker run -p 6333:6333 -p 6334:6334     -v ...>"
      ]
     },
     "execution_count": 33,
     "metadata": {},
     "output_type": "execute_result"
    },
    {
     "name": "stdout",
     "output_type": "stream",
     "text": [
      "           _                 _    \n",
      "  __ _  __| |_ __ __ _ _ __ | |_  \n",
      " / _` |/ _` | '__/ _` | '_ \\| __| \n",
      "| (_| | (_| | | | (_| | | | | |_  \n",
      " \\__, |\\__,_|_|  \\__,_|_| |_|\\__| \n",
      "    |_|                           \n",
      "\n",
      "Version: 1.15.4, build: 20db14f8\n",
      "Access web UI at http://localhost:6333/dashboard\n",
      "\n",
      "2025-09-22T10:38:07.671230Z  INFO storage::content_manager::consensus::persistent: Loading raft state from ./storage/raft_state.json    \n",
      "2025-09-22T10:38:07.686649Z  INFO storage::content_manager::toc: Loading collection: unstructured_parsing    \n",
      "2025-09-22T10:38:07.767780Z  INFO collection::shards::local_shard: Recovering shard ./storage/collections/unstructured_parsing/0: 0/1 (0%)    \n",
      "2025-09-22T10:38:07.782465Z  INFO collection::shards::local_shard: Recovered collection unstructured_parsing: 1/1 (100%)    \n",
      "2025-09-22T10:38:07.788244Z  INFO qdrant: Distributed mode disabled    \n",
      "2025-09-22T10:38:07.788787Z  INFO qdrant: Telemetry reporting enabled, id: 3ef9885f-4bf0-4744-a7a2-e82d142560da    \n",
      "2025-09-22T10:38:07.878710Z  INFO qdrant::actix: TLS disabled for REST API    \n",
      "2025-09-22T10:38:07.879201Z  INFO qdrant::actix: Qdrant HTTP listening on 6333    \n",
      "2025-09-22T10:38:07.879222Z  INFO actix_server::builder: starting 11 workers\n",
      "2025-09-22T10:38:07.879285Z  INFO actix_server::server: Actix runtime found; starting in Actix runtime\n",
      "2025-09-22T10:38:07.879292Z  INFO actix_server::server: starting service: \"actix-web-service-0.0.0.0:6333\", workers: 11, listening on: 0.0.0.0:6333\n",
      "2025-09-22T10:38:07.880605Z  INFO qdrant::tonic: Qdrant gRPC listening on 6334    \n",
      "2025-09-22T10:38:07.880640Z  INFO qdrant::tonic: TLS disabled for gRPC API    \n"
     ]
    }
   ],
   "source": [
    "import subprocess\n",
    "command = \"docker run -p 6333:6333 -p 6334:6334 \\\n",
    "    -v $(pwd)/qdrant_storage:/qdrant/storage:z \\\n",
    "        qdrant/qdrant\"\n",
    "\n",
    "subprocess.Popen(command, shell=True)"
   ]
  },
  {
   "cell_type": "code",
   "execution_count": 34,
   "metadata": {},
   "outputs": [
    {
     "name": "stderr",
     "output_type": "stream",
     "text": [
      "Ingesting in batches: 100%|██████████| 1/1 [00:00<00:00, 57.40it/s]"
     ]
    },
    {
     "name": "stdout",
     "output_type": "stream",
     "text": [
      "2025-09-22T10:38:12.576596Z  INFO storage::content_manager::toc::collection_meta_ops: Updating collection unstructured_parsing    \n"
     ]
    },
    {
     "name": "stderr",
     "output_type": "stream",
     "text": [
      "\n"
     ]
    }
   ],
   "source": [
    "from simple_rag.database.qdrant import QdrantDatabase\n",
    "\n",
    "database = QdrantDatabase(collection_name=\"unstructured_parsing\")\n",
    "\n",
    "database.create_collection()\n",
    "database.batch_upsert(embeddings_for_qdrant)"
   ]
  },
  {
   "cell_type": "code",
   "execution_count": 35,
   "metadata": {},
   "outputs": [
    {
     "name": "stdout",
     "output_type": "stream",
     "text": [
      "Execution time for the search: 0.0089 seconds\n"
     ]
    }
   ],
   "source": [
    "\n",
    "from simple_rag.retriever.retriever import Retriever\n",
    "\n",
    "retriever = Retriever(vector_db=database, embeddata=embed_model)\n",
    "query = \"What was the 2023 performance of the fund\"\n",
    "# Step 2: Search for \"data engineering\"\n",
    "results = retriever.search(query)\n",
    "\n"
   ]
  },
  {
   "cell_type": "code",
   "execution_count": 36,
   "metadata": {},
   "outputs": [
    {
     "data": {
      "text/plain": [
       "[ScoredPoint(id=5, version=4, score=0.6770272254943848, payload={'section_title': 'Past Performance', 'text': \"Past Performance\\nPast performance is not a guide to future performance.\\nThe chart shows the Fund's annual performance in EUR for each full calendar year over the period displayed in the chart. It is expressed as a percentage change of the Fund's net asset value at each year-end. The Fund was launched in 2010. Performance is shown after deduction of ongoing charges. Any entry/exit charges are excluded from the calculation. Historic performance to 31 December 2024\\n† Benchmark:S&P 500. For the full name of the benchmark, please see the Objectives and Investment Policy section. Mirund Fund Benchmark † 0.2 0.3 9.6 9.6 18.8 18.7 -7.7 -7.8 27.0 26.8 15.2 15.1 27.0 27.0 | | | -20.9 -21.0 22.4 22.2 22.5 22.5\", 'source_document': 'processed_document.pdf', 'page_number': 2, 'chunk_type': 'Text'}, vector=None, shard_key=None, order_value=None),\n",
       " ScoredPoint(id=1, version=5, score=0.616732120513916, payload={'section_title': 'chunk_1', 'text': \"## Chunk 1 — Page n/a\\n\\n# Charges\\n\\nThe charges are used to pay the costs of running the Fund, including the costs of marketing and distributing it. These charges reduce the potential growth of your investment.\\n\\n*Not applicable to secondary market investors. Investors dealing on a stock exchange will pay fees charged by their stock brokers. Such charges are publicly available on exchanges on which the shares are listed and traded, or can be obtained from stock brokers.*\\n\\n*Authorised participants dealing directly with the Fund will pay related transaction costs including, on redemptions, any applicable capital gains tax (CGT) and other taxes on underlying securities.*\\n\\nThe ongoing charges figure is based on the fixed annualised fee charged to the Fund as set out in the Fund’s prospectus. This figure excludes portfolio trade-related costs, except costs paid to the depositary and any entry/exit charge paid to an underlying collective investment scheme (if any).\\n\\n# # One-off charges taken before or after you invest\\n\\n| Charge Type       | Amount  |\\n|-------------------|---------|\\n| Entry Charge      | None*   |\\n| Exit Charge       | None*   |\\n\\n*This is the maximum that might be taken out of your money before it is invested or before proceeds of your investments are paid out.*\\n\\n# # Charges taken from the Fund over each year\\n\\n| Charge Type       | Amount  |\\n|-------------------|---------|\\n| Ongoing Charges    | 0.20%** |\\n\\n# # Charges taken from the Fund under certain conditions\\n\\n| Charge Type       | Amount  |\\n|-------------------|---------|\\n| Performance Fee    | None    |\\n\\n# # Past Performance\\n\\nPast performance is not a guide to future performance. The chart shows the Fund's annual performance in EUR for each full calendar year over the period displayed in the chart. It is expressed as a percentage change of the Fund's net asset value at each year-end. The Fund was launched in 2010. Performance is shown after deduction of ongoing charges. Any entry/exit charges are excluded from the calculation.\\n\\n† Benchmark: S&P 500. For the full name of the benchmark, please see the Objectives and Investment Policy section.\\n\\n| Year  | Fund (%) | Benchmark † (%) |\\n|-------|----------|------------------|\\n| 2015  | 0.2      | 0.3              |\\n| 2016  | 9.6      | 9.6              |\\n| 2017  | 18.8     | 18.7             |\\n| 2018  | -7.7     | -7.8             |\\n| 2019  | 27.0     | 26.8             |\\n| 2020  | 15.2     | 15.1             |\\n| 2021  | 27.0     | 27.0             |\\n| 2022  | -20.9    | -21.0            |\\n| 2023  | 22.4     | 22.2             |\\n| 2024  | 22.5     | 22.5             |\\n\\n# # Practical Information\\n\\n- The depositary of the Fund is State Street Custodial Services (Ireland) Limited.\\n- Further information about the Fund can be obtained from the latest annual report and half-yearly reports of iShares V plc. These documents are available free of charge in English and certain other languages. These can be found, along with other information, such as details of the key underlying investments of the Fund and share prices, on the iShares website at www.ishares.com or by calling +44 (0)207 743 2030 or from your broker or financial adviser.\\n- Investors should note that the tax legislation that applies to the Fund may have an impact on the personal tax position of your investment in the Fund.\\n- The Fund is a sub-fund of iShares V plc, an umbrella structure comprising different sub-funds. This document is specific to the Fund stated at the beginning of this document. However, the prospectus, annual and half-yearly reports are prepared for the umbrella.\\n- iShares V plc may be held liable solely on the basis of any statement contained in this document that is misleading, inaccurate or inconsistent with the relevant parts of the Fund's prospectus.\\n- The indicative intra-day net asset value of the Fund is published on relevant stock exchanges websites.\\n- Under Irish law, iShares V plc has segregated liability between its sub-funds (i.e. the Fund’s assets will not be used to discharge the liabilities of other sub-funds within iShares V plc). In addition, the Fund’s assets are held separately from the assets of other sub-funds.\\n- Switching of shares between the Fund and other sub-funds within iShares V plc is not available to investors.\\n- The Remuneration Policy of the Management Company, which describes how remuneration and benefits are determined and awarded, and the associated governance arrangements, is available at www.blackrock.com/Remunerationpolicy or on request from the registered office of the Management Company.\\n\\nThis Fund and its manager, BlackRock Asset Management Ireland Limited, are authorised in Ireland and regulated by the Central Bank of Ireland. This Key Investor Information is accurate as at 22 August 2025.\", 'source_document': 'processed_document.pdf', 'chunk_type': 'Text', 'page_number': 'n/a'}, vector=None, shard_key=None, order_value=None),\n",
       " ScoredPoint(id=2, version=4, score=0.5823410749435425, payload={'section_title': 'Objectives and Investment Policy', 'text': \"Objectives and Investment Policy The Fund aims to achieve a return on your investment, through a combination of capital growth and income on the Fund’s assets, which reflects the return of S&P 500 EUR Hedged, the Fund’s benchmark index (Index). The Index provides a return on the S&P 500 which measures the performance of the large-cap sector (i.e. leading companies with large market capitalisations) of the United States market. Market capitalisation is the share price multiplied by the number of shares issued. Companies are included in the Index based on a free float market capitalisation weighted basis. Free float means that only shares available to international investors, rather than all of a company’s issued shares, are used to calculate the Index. Free float market capitalisation is the share price of a company multiplied by the number of shares available to international Investors. The Index also uses one month foreign exchange (FX) forward contracts to hedge each non-Euro currency in the Index back to Euro in accordance with the S&P Hedged Indices methodology. Hedging reduces the effect of fluctuations in the exchange rates between the currencies of the equity securities (e.g. shares) that make up the Index and Euro, the base currency of the Fund. The Fund is passively managed and aims to invest in equity securities (e.g. shares) that, so far as possible and practicable, make up the S&P 500, as well as FX forward contracts that, so far as possible and practicable, track the hedging methodology of the Index. The Fund intends to replicate the Index by holding the equity securities which make up the Index, in similar proportions to it. The investment manager may use financial derivative instruments (“FDIs“) (i.e. investments the prices of which are based on one or more underlying assets) for direct investment purposes to produce a similar return to its Index. The Fund may also engage in short-term secured lending of its investments to certain eligible third parties to generate additional income to off-set the costs of the Fund. Recommendation: This Fund is suitable for medium to long term investment, though the Fund may also be suitable for shorter term exposure to the Index. Your shares will be accumulating shares (i.e. income will be included in their value). The Fund’s base currency is Euro. The shares are listed on one or more stock exchanges and may be traded in currencies other than their base currency. The performance of your shares may be affected by this currency difference. In normal circumstances, only authorised participants (e.g. select financial institutions) may deal in shares (or interests in shares) directly with the Fund. Other investors can deal in shares (or interests in shares) daily through an intermediary on stock exchange (s) on which the shares are traded. Indicative net asset value is published on relevant stock exchanges websites.\\nFor more information on the Fund, share/unit classes, risks and charges, please see the Fund's prospectus, available on the product pages at www.blackrock.com\", 'source_document': 'processed_document.pdf', 'chunk_type': 'Text', 'page_number': 1}, vector=None, shard_key=None, order_value=None),\n",
       " ScoredPoint(id=3, version=4, score=0.5679038763046265, payload={'section_title': 'Risk and Reward Profile', 'text': \"Risk and Reward Profile Lowet i lower rewards - The value of equities and equity-related securities can be affected by daily stock market movements. Other influential factors include political, economic news, company earnings and significant corporate events. Particular risks not adequately captured by the risk indicator include: This indicator is based on historical data and may not be a reliable indication of the future risk profile of the Fund. - Counterparty Risk: The insolvency of any institutions providing services such as safekeeping of assets or acting as counterparty to derivatives or other instruments, may expose the Fund to financial loss. The risk category shown is not guaranteed and may change over time. The lowest category does not mean risk free. - Currency hedging may not completely eliminate currency risk in the Fund, and may affect the performance of the Fund. The Fund is rated six due to the nature of its investments which include the risks listed below. These factors may impact the value of the Fund’s investments or expose the Fund to losses.\\nThe benchmark is the intellectual property of the index provider. The Fund is not sponsored or endorsed by the index provider. Please refer to the Fund's prospectus for full disclaimer.\", 'source_document': 'processed_document.pdf', 'page_number': 1, 'chunk_type': 'Text'}, vector=None, shard_key=None, order_value=None),\n",
       " ScoredPoint(id=0, version=5, score=0.5642365217208862, payload={'section_title': 'chunk_0', 'text': \"## Chunk 0 — Page n/a\\n\\n# Key Investor Information\\n\\n# KEY INVESTOR INFORMATION\\n\\nThis document provides you with key investor information about this Fund. It is not marketing material. The information is required by law to help you understand the nature and risks of investing in this Fund. You are advised to read it so you can make an informed decision about whether to invest.\\n\\n# iShares S&P 500 EUR Hedged UCITS ETF\\n\\nExchange Traded Fund (ETF) (Acc)\\n\\nISIN: IE00B3ZW0K18\\n\\nManager: BlackRock Asset Management Ireland Limited\\n\\nA sub-fund of iShares V plc\\n\\n# Objectives and Investment Policy\\n\\nThe Fund aims to achieve a return on your investment, through a combination of capital growth and income on the Fund’s assets, which reflects the return of S&P 500 EUR Hedged, the Fund’s benchmark index (Index).\\n\\nThe Index provides a return on the S&P 500 which measures the performance of the large-cap sector (i.e. leading companies with large market capitalisations) of the United States market. Market capitalisation is the share price multiplied by the number of shares issued. Companies are included in the Index based on a free float market capitalisation weighted basis. Free float means that only shares available to international investors, rather than all of a company’s issued shares, are used to calculate the Index. Free float market capitalisation is the share price of a company multiplied by the number of shares available to international Investors. The Index also uses one month foreign exchange (FX) forward contracts to hedge each non-Euro currency in the Index back to Euro in accordance with the S&P Hedged Indices methodology. Hedging reduces the effect of fluctuations in the exchange rates between the currencies of the equity securities (e.g. shares) that make up the Index and Euro, the base currency of the Fund.\\n\\nThe Fund is passively managed and aims to invest in equity securities (e.g. shares) that, so far as possible and practicable, make up the S&P 500, as well as FX forward contracts that, so far as possible and practicable, track the hedging methodology of the Index.\\n\\nThe Fund intends to replicate the Index by holding the equity securities which make up the Index, in similar proportions to it. The investment manager may use financial derivative instruments (“FDIs“) (i.e. investments the prices of which are based on one or more underlying assets) for direct investment purposes to produce a similar return to its Index.\\n\\nThe Fund may also engage in short-term secured lending of its investments to certain eligible third parties to generate additional income to off-set the costs of the Fund.\\n\\nRecommendation: This Fund is suitable for medium to long term investment, though the Fund may also be suitable for shorter term exposure to the Index.\\n\\nYour shares will be accumulating shares (i.e. income will be included in their value).\\n\\nThe Fund’s base currency is Euro.\\n\\nThe shares are listed on one or more stock exchanges and may be traded in currencies other than their base currency. The performance of your shares may be affected by this currency difference. In normal circumstances, only authorised participants (e.g. select financial institutions) may deal in shares (or interests in shares) directly with the Fund. Other investors can deal in shares (or interests in shares) daily through an intermediary on stock exchange(s) on which the shares are traded.\\n\\nIndicative net asset value is published on relevant stock exchanges websites.\\n\\nFor more information on the Fund, share/unit classes, risks and charges, please see the Fund's prospectus, available on the product pages at www.blackrock.com\\n\\n# Risk and Reward Profile\\n\\n| Lower risk              | Higher risk              |\\n| ----------------------- | ------------------------ |\\n| Typically lower rewards | Typically higher rewards |\\n\\nThe value of equities and equity-related securities can be affected by daily stock market movements. Other influential factors include political, economic news, company earnings and significant corporate events.\\n\\nParticular risks not adequately captured by the risk indicator include:\\n\\n- Counterparty Risk: The insolvency of any institutions providing services such as safekeeping of assets or acting as counterparty to derivatives or other instruments, may expose the Fund to financial loss.\\n- Currency hedging may not completely eliminate currency risk in the Fund, and may affect the performance of the Fund.\\n\\nThis indicator is based on historical data and may not be a reliable indication of the future risk profile of the Fund. The risk category shown is not guaranteed and may change over time. The lowest category does not mean risk free. The Fund is rated six due to the nature of its investments which include the risks listed below. These factors may impact the value of the Fund’s investments or expose the Fund to losses.\\n\\nThe benchmark is the intellectual property of the index provider. The Fund is not sponsored or endorsed by the index provider. Please refer to the Fund's prospectus for full disclaimer.\\n\\n1  2  3  5  6  7\\n\\n\\n---\\n\\n<a id='chunk-1-charges'></a>\", 'source_document': 'processed_document.pdf', 'chunk_type': 'Text', 'page_number': 'n/a'}, vector=None, shard_key=None, order_value=None)]"
      ]
     },
     "execution_count": 36,
     "metadata": {},
     "output_type": "execute_result"
    }
   ],
   "source": [
    "results"
   ]
  },
  {
   "cell_type": "code",
   "execution_count": 40,
   "metadata": {},
   "outputs": [
    {
     "name": "stdout",
     "output_type": "stream",
     "text": [
      "LLM loaded successfully\n"
     ]
    }
   ],
   "source": [
    "\n",
    "from simple_rag.rag.rag import RAG\n",
    "retriever = Retriever(database, embed_model)\n",
    "\n",
    "rag = RAG(retriever, \"llama3.2:3b\")"
   ]
  },
  {
   "cell_type": "code",
   "execution_count": 41,
   "metadata": {},
   "outputs": [
    {
     "name": "stdout",
     "output_type": "stream",
     "text": [
      "Execution time for the search: 0.0032 seconds\n",
      "Section: Past Performance score: 0.6770272254943848\n",
      "Section: chunk_1 score: 0.616732120513916\n",
      "Section: Objectives and Investment Policy score: 0.5823410749435425\n",
      "Section: Risk and Reward Profile score: 0.5679038763046265\n",
      "Section: chunk_0 score: 0.5642365217208862\n"
     ]
    }
   ],
   "source": [
    "\n",
    "\n",
    "answer = rag.query(query)"
   ]
  },
  {
   "cell_type": "code",
   "execution_count": 42,
   "metadata": {},
   "outputs": [
    {
     "data": {
      "text/markdown": [
       "According to the provided context, the 2023 performance of the fund is 22.4%."
      ],
      "text/plain": [
       "<IPython.core.display.Markdown object>"
      ]
     },
     "metadata": {},
     "output_type": "display_data"
    }
   ],
   "source": [
    "from IPython.display import display, Markdown\n",
    "\n",
    "display(Markdown(answer[\"answer\"]))"
   ]
  }
 ],
 "metadata": {
  "kernelspec": {
   "display_name": "rag-env",
   "language": "python",
   "name": "python3"
  },
  "language_info": {
   "codemirror_mode": {
    "name": "ipython",
    "version": 3
   },
   "file_extension": ".py",
   "mimetype": "text/x-python",
   "name": "python",
   "nbconvert_exporter": "python",
   "pygments_lexer": "ipython3",
   "version": "3.10.18"
  }
 },
 "nbformat": 4,
 "nbformat_minor": 4
}
