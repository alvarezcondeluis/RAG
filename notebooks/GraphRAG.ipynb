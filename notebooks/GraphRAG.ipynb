{
 "cells": [
  {
   "cell_type": "markdown",
   "metadata": {},
   "source": [
    "# Graph RAG with Neo4j, LlamaIndex & Llama 3.2\n",
    "\n",
    "Complete skeleton for building a Graph RAG system.\n",
    "\n",
    "## Overview\n",
    "This notebook demonstrates how to build a Graph RAG system that combines:\n",
    "- **Neo4j**: Graph database for storing knowledge graphs\n",
    "- **LlamaIndex**: Framework for RAG orchestration\n",
    "- **Llama 3.2**: Language model for generation and entity extraction"
   ]
  },
  {
   "cell_type": "markdown",
   "metadata": {},
   "source": [
    "## 1. Environment Setup\n",
    "\n",
    "Install dependencies and configure the environment."
   ]
  },
  {
   "cell_type": "code",
   "execution_count": null,
   "metadata": {},
   "outputs": [],
   "source": [
    "# Install required packages\n",
    "!pip install llama-index neo4j llama-index-graph-stores-neo4j\n",
    "!pip install llama-index-llms-ollama llama-index-embeddings-huggingface"
   ]
  },
  {
   "cell_type": "code",
   "execution_count": null,
   "metadata": {},
   "outputs": [],
   "source": [
    "# Import libraries\n",
    "import os\n",
    "import json\n",
    "from typing import List, Dict, Any\n",
    "\n",
    "from llama_index.core import KnowledgeGraphIndex, ServiceContext, Document\n",
    "from llama_index.graph_stores.neo4j import Neo4jGraphStore\n",
    "from llama_index.llms.ollama import Ollama\n",
    "from llama_index.embeddings.huggingface import HuggingFaceEmbedding\n",
    "from neo4j import GraphDatabase"
   ]
  },
  {
   "cell_type": "markdown",
   "metadata": {},
   "source": [
    "## 2. Neo4j Configuration\n",
    "\n",
    "Set up Neo4j connection and graph store."
   ]
  },
  {
   "cell_type": "code",
   "execution_count": null,
   "metadata": {},
   "outputs": [],
   "source": [
    "# Neo4j connection parameters\n",
    "NEO4J_URI = \"bolt://localhost:7687\"\n",
    "NEO4J_USERNAME = \"neo4j\"\n",
    "NEO4J_PASSWORD = \"your_password\"\n",
    "\n",
    "# Initialize Neo4j graph store\n",
    "graph_store = Neo4jGraphStore(\n",
    "    username=NEO4J_USERNAME,\n",
    "    password=NEO4J_PASSWORD,\n",
    "    url=NEO4J_URI,\n",
    "    database=\"neo4j\"\n",
    ")\n",
    "\n",
    "print(\"Neo4j connection established\")"
   ]
  },
  {
   "cell_type": "markdown",
   "metadata": {},
   "source": [
    "## 3. Llama 3.2 & LlamaIndex Setup\n",
    "\n",
    "Configure the language model and embedding model."
   ]
  },
  {
   "cell_type": "code",
   "execution_count": null,
   "metadata": {},
   "outputs": [],
   "source": [
    "# Initialize Llama 3.2 via Ollama\n",
    "llm = Ollama(model=\"llama3.2\", request_timeout=120.0)\n",
    "\n",
    "# Initialize embedding model\n",
    "embed_model = HuggingFaceEmbedding(model_name=\"sentence-transformers/all-MiniLM-L6-v2\")\n",
    "\n",
    "# Create service context\n",
    "service_context = ServiceContext.from_defaults(\n",
    "    llm=llm,\n",
    "    embed_model=embed_model,\n",
    "    chunk_size=512\n",
    ")\n",
    "\n",
    "print(\"LLM and embedding models configured\")"
   ]
  },
  {
   "cell_type": "markdown",
   "metadata": {},
   "source": [
    "## 4. Data Loading & Preparation\n",
    "\n",
    "Load and prepare your documents for graph construction."
   ]
  },
  {
   "cell_type": "code",
   "execution_count": null,
   "metadata": {},
   "outputs": [],
   "source": [
    "# Load your data (example with JSON files)\n",
    "def load_documents(file_paths: List[str]) -> List[Document]:\n",
    "    documents = []\n",
    "    \n",
    "    for file_path in file_paths:\n",
    "        with open(file_path, 'r', encoding='utf-8') as f:\n",
    "            data = json.load(f)\n",
    "            \n",
    "        # Convert data to text format\n",
    "        text_content = json.dumps(data, indent=2)\n",
    "        doc = Document(text=text_content, metadata={\"source\": file_path})\n",
    "        documents.append(doc)\n",
    "    \n",
    "    return documents\n",
    "\n",
    "# Example: Load your sport data\n",
    "file_paths = [\n",
    "    \"/home/alvar/CascadeProjects/windsurf-project/RAG/data/raw/sport/la_liga_2023_teams.json\",\n",
    "    \"/home/alvar/CascadeProjects/windsurf-project/RAG/data/raw/sport/la_liga_2023_players.json\"\n",
    "]\n",
    "\n",
    "documents = load_documents(file_paths)\n",
    "print(f\"Loaded {len(documents)} documents\")"
   ]
  },
  {
   "cell_type": "markdown",
   "metadata": {},
   "source": [
    "## 5. Knowledge Graph Construction\n",
    "\n",
    "Build the knowledge graph from your documents."
   ]
  },
  {
   "cell_type": "code",
   "execution_count": null,
   "metadata": {},
   "outputs": [],
   "source": [
    "# Create storage context with Neo4j graph store\n",
    "storage_context = StorageContext.from_defaults(graph_store=graph_store)\n",
    "\n",
    "# Build knowledge graph index\n",
    "kg_index = KnowledgeGraphIndex.from_documents(\n",
    "    documents,\n",
    "    storage_context=storage_context,\n",
    "    service_context=service_context,\n",
    "    max_triplets_per_chunk=10,\n",
    "    include_embeddings=True\n",
    ")\n",
    "\n",
    "print(\"Knowledge graph constructed and stored in Neo4j\")"
   ]
  },
  {
   "cell_type": "markdown",
   "metadata": {},
   "source": [
    "## 6. Graph Querying & Retrieval\n",
    "\n",
    "Query the knowledge graph for information retrieval."
   ]
  },
  {
   "cell_type": "code",
   "execution_count": null,
   "metadata": {},
   "outputs": [],
   "source": [
    "# Create query engine\n",
    "query_engine = kg_index.as_query_engine(\n",
    "    include_text=True,\n",
    "    response_mode=\"tree_summarize\",\n",
    "    embedding_mode=\"hybrid\",\n",
    "    similarity_top_k=5\n",
    ")\n",
    "\n",
    "# Example queries\n",
    "queries = [\n",
    "    \"What teams are in La Liga 2023?\",\n",
    "    \"Who are the top players in Real Madrid?\",\n",
    "    \"What is the relationship between Barcelona and their players?\"\n",
    "]\n",
    "\n",
    "for query in queries:\n",
    "    print(f\"\\nQuery: {query}\")\n",
    "    response = query_engine.query(query)\n",
    "    print(f\"Response: {response}\")\n",
    "    print(\"-\" * 50)"
   ]
  },
  {
   "cell_type": "markdown",
   "metadata": {},
   "source": [
    "## 7. Advanced Graph Operations\n",
    "\n",
    "Perform advanced graph operations and analysis."
   ]
  },
  {
   "cell_type": "code",
   "execution_count": null,
   "metadata": {},
   "outputs": [],
   "source": [
    "# Custom Cypher queries\n",
    "def run_cypher_query(query: str):\n",
    "    driver = GraphDatabase.driver(NEO4J_URI, auth=(NEO4J_USERNAME, NEO4J_PASSWORD))\n",
    "    \n",
    "    with driver.session() as session:\n",
    "        result = session.run(query)\n",
    "        return [record.data() for record in result]\n",
    "\n",
    "# Example: Find all entities and their relationships\n",
    "cypher_query = \"\"\"\n",
    "MATCH (n)-[r]->(m)\n",
    "RETURN n.name as source, type(r) as relationship, m.name as target\n",
    "LIMIT 10\n",
    "\"\"\"\n",
    "\n",
    "results = run_cypher_query(cypher_query)\n",
    "print(\"Graph relationships:\")\n",
    "for result in results:\n",
    "    print(f\"{result['source']} --{result['relationship']}--> {result['target']}\")"
   ]
  },
  {
   "cell_type": "markdown",
   "metadata": {},
   "source": [
    "## 8. Graph Visualization\n",
    "\n",
    "Visualize the knowledge graph structure."
   ]
  },
  {
   "cell_type": "code",
   "execution_count": null,
   "metadata": {},
   "outputs": [],
   "source": [
    "# Install visualization dependencies\n",
    "!pip install networkx matplotlib pyvis\n",
    "\n",
    "import networkx as nx\n",
    "import matplotlib.pyplot as plt\n",
    "from pyvis.network import Network\n",
    "\n",
    "# Create network visualization\n",
    "def visualize_graph_sample():\n",
    "    # Get sample of graph data\n",
    "    query = \"\"\"\n",
    "    MATCH (n)-[r]->(m)\n",
    "    RETURN n.name as source, type(r) as relationship, m.name as target\n",
    "    LIMIT 20\n",
    "    \"\"\"\n",
    "    \n",
    "    results = run_cypher_query(query)\n",
    "    \n",
    "    # Create network graph\n",
    "    net = Network(height=\"600px\", width=\"100%\", bgcolor=\"#222222\", font_color=\"white\")\n",
    "    \n",
    "    for result in results:\n",
    "        net.add_node(result['source'], label=result['source'])\n",
    "        net.add_node(result['target'], label=result['target'])\n",
    "        net.add_edge(result['source'], result['target'], label=result['relationship'])\n",
    "    \n",
    "    net.show(\"graph_visualization.html\")\n",
    "    print(\"Graph visualization saved as graph_visualization.html\")\n",
    "\n",
    "visualize_graph_sample()"
   ]
  },
  {
   "cell_type": "markdown",
   "metadata": {},
   "source": [
    "## 9. Performance Evaluation\n",
    "\n",
    "Evaluate the Graph RAG system performance."
   ]
  },
  {
   "cell_type": "code",
   "execution_count": null,
   "metadata": {},
   "outputs": [],
   "source": [
    "# Evaluation metrics and testing\n",
    "import time\n",
    "\n",
    "def evaluate_query_performance(queries: List[str]):\n",
    "    results = []\n",
    "    \n",
    "    for query in queries:\n",
    "        start_time = time.time()\n",
    "        response = query_engine.query(query)\n",
    "        end_time = time.time()\n",
    "        \n",
    "        results.append({\n",
    "            'query': query,\n",
    "            'response_time': end_time - start_time,\n",
    "            'response_length': len(str(response))\n",
    "        })\n",
    "    \n",
    "    return results\n",
    "\n",
    "# Test queries\n",
    "test_queries = [\n",
    "    \"List all La Liga teams\",\n",
    "    \"Who plays for Barcelona?\",\n",
    "    \"What position does Messi play?\"\n",
    "]\n",
    "\n",
    "performance_results = evaluate_query_performance(test_queries)\n",
    "\n",
    "print(\"Performance Results:\")\n",
    "for result in performance_results:\n",
    "    print(f\"Query: {result['query']}\")\n",
    "    print(f\"Response Time: {result['response_time']:.2f}s\")\n",
    "    print(f\"Response Length: {result['response_length']} chars\")\n",
    "    print(\"-\" * 40)"
   ]
  },
  {
   "cell_type": "markdown",
   "metadata": {},
   "source": [
    "## 10. Optimization & Fine-tuning\n",
    "\n",
    "Optimize the Graph RAG system for better performance."
   ]
  },
  {
   "cell_type": "code",
   "execution_count": null,
   "metadata": {},
   "outputs": [],
   "source": [
    "# Graph optimization techniques\n",
    "\n",
    "# 1. Index creation for faster queries\n",
    "optimization_queries = [\n",
    "    \"CREATE INDEX entity_name IF NOT EXISTS FOR (n:Entity) ON (n.name)\",\n",
    "    \"CREATE INDEX relationship_type IF NOT EXISTS FOR ()-[r:RELATIONSHIP]-() ON (r.type)\"\n",
    "]\n",
    "\n",
    "for opt_query in optimization_queries:\n",
    "    try:\n",
    "        run_cypher_query(opt_query)\n",
    "        print(f\"Executed: {opt_query}\")\n",
    "    except Exception as e:\n",
    "        print(f\"Error: {e}\")\n",
    "\n",
    "# 2. Query optimization parameters\n",
    "optimized_query_engine = kg_index.as_query_engine(\n",
    "    include_text=True,\n",
    "    response_mode=\"compact\",\n",
    "    embedding_mode=\"hybrid\",\n",
    "    similarity_top_k=3,  # Reduced for faster queries\n",
    "    max_keywords_per_query=5\n",
    ")\n",
    "\n",
    "print(\"Graph optimization completed\")"
   ]
  },
  {
   "cell_type": "markdown",
   "metadata": {},
   "source": [
    "## 11. Cleanup & Resources\n",
    "\n",
    "Clean up resources and provide next steps."
   ]
  },
  {
   "cell_type": "code",
   "execution_count": null,
   "metadata": {},
   "outputs": [],
   "source": [
    "# Cleanup function\n",
    "def cleanup_resources():\n",
    "    # Close Neo4j connections\n",
    "    if 'graph_store' in globals():\n",
    "        graph_store.close()\n",
    "    \n",
    "    print(\"Resources cleaned up\")\n",
    "\n",
    "# cleanup_resources()  # Uncomment when done\n",
    "\n",
    "print(\"\"\"\n",
    "Graph RAG Tutorial Complete!\n",
    "\n",
    "Next Steps:\n",
    "1. Customize entity extraction for your domain\n",
    "2. Implement custom relationship types\n",
    "3. Add graph-based reasoning capabilities\n",
    "4. Scale with distributed Neo4j setup\n",
    "5. Integrate with production applications\n",
    "\"\"\")"
   ]
  }
 ],
 "metadata": {
  "kernelspec": {
   "display_name": "Python 3",
   "language": "python",
   "name": "python3"
  },
  "language_info": {
   "codemirror_mode": {
    "name": "ipython",
    "version": 3
   },
   "file_extension": ".py",
   "mimetype": "text/x-python",
   "name": "python",
   "nbconvert_exporter": "python",
   "pygments_lexer": "ipython3",
   "version": "3.8.5"
  }
 },
 "nbformat": 4,
 "nbformat_minor": 4
}
