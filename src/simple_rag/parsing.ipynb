{
 "cells": [
  {
   "cell_type": "markdown",
   "id": "c2c29f13",
   "metadata": {},
   "source": [
    "## Document Parsing\n"
   ]
  },
  {
   "cell_type": "markdown",
   "id": "a1383cbd",
   "metadata": {},
   "source": [
    "### Unstructured IO Parsing"
   ]
  },
  {
   "cell_type": "code",
   "execution_count": 41,
   "id": "96accfa1",
   "metadata": {},
   "outputs": [],
   "source": [
    "import os\n",
    "from pathlib import Path\n",
    "\n",
    "from pypdf import PdfReader, PdfWriter\n",
    "\n",
    "# ---- inputs/outputs\n",
    "ROOT = Path(os.getcwd()).resolve().parents[1]\n",
    "PDF_PATH = ROOT / \"data\" / \"raw\" / \"example.pdf\"\n",
    "SLICE_PATH = ROOT / \"data\" / \"raw\" / \"example_slice.pdf\"\n",
    "OUT_PATH = ROOT / \"data\" / \"processed\" / \"example_p468_470.json\"\n",
    "\n",
    "START_PAGE, END_PAGE = 508, 510\n",
    "\n",
    "# ---- slice PDF with PyPDF\n",
    "reader = PdfReader(str(PDF_PATH))\n",
    "writer = PdfWriter()\n",
    "for p in range(START_PAGE - 1, END_PAGE):\n",
    "    writer.add_page(reader.pages[p])\n",
    "SLICE_PATH.parent.mkdir(parents=True, exist_ok=True)\n",
    "with open(SLICE_PATH, \"wb\") as f:\n",
    "    writer.write(f)"
   ]
  },
  {
   "cell_type": "code",
   "execution_count": 52,
   "id": "f7c0dec2",
   "metadata": {},
   "outputs": [
    {
     "name": "stdout",
     "output_type": "stream",
     "text": [
      "Warning: No languages specified, defaulting to English.\n",
      "Extracted 5 elements\n"
     ]
    }
   ],
   "source": [
    "from unstructured.partition.pdf import partition_pdf\n",
    "\n",
    "\n",
    "PDF_PATH = \"../../data/raw/example_slice.pdf\"\n",
    "OUT_PATH = \"../../data/processed/example.json\"\n",
    "\n",
    "\n",
    "\n",
    "\n",
    "chunks = partition_pdf(\n",
    "    filename=PDF_PATH,\n",
    "    infer_table_structure=True,\n",
    "    strategy=\"hi_res\",\n",
    "    extract_image_block_types=[\"Image\"],\n",
    "    extract_image_block_to_payload=True,\n",
    "    chunking_strategy=\"by_title\",\n",
    "    max_characters=10000,\n",
    "    combine_text_under_n_chars=2000,\n",
    "    new_after_n_chars=6000,\n",
    ")\n",
    "\n",
    "print(f\"Extracted {len(chunks)} elements\")\n"
   ]
  },
  {
   "cell_type": "code",
   "execution_count": 55,
   "id": "e65ca87f",
   "metadata": {},
   "outputs": [
    {
     "data": {
      "text/markdown": [
       "TABLE 67-1 Molecular Pathways Mediating Drug Disposition\n",
       "\n",
       "ENZYME SUBSTRATESa INHIBITORSa CYP3A Calcium channel Amiodarone blockers Antiarrhythmics Ketoconazole, (lidocaine, quinidine, itraconazole mexiletine) HMG-CoA reductase Erythromycin, inhibitors (“statins”; see clarithromycin text) Cyclosporine, tacrolimus Ritonavir Indinavir, saquinavir, Gemfibrozil and other ritonavir fibrates CYP2D6b Timolol, metoprolol, Quinidine (even at ultra- carvedilol low doses) Propafenone, flecainide Tricyclic antidepressants Tricyclic antidepressants Fluoxetine, paroxetine Fluoxetine, paroxetine CYP2C9b Warfarin Amiodarone Phenytoin Fluconazole Glipizide Phenytoin Losartan CYP2C19b Omeprazole Omeprazole Mephenytoin Clopidogrel CYP2B6b Efavirenz Thiopurine 6-Mercaptopurine, S-methyltransferaseb azathioprine N-acetyltransferaseb Isoniazid Procainamide Hydralazine Some sulfonamides UGT1A1b Irinotecan Pseudocholinesteraseb Succinylcholine TRANSPORTER SUBSTRATESa INHIBITORSa P-glycoprotein Digoxin Quinidine HIV protease inhibitors Amiodarone Many CYP3A substrates Verapamil Cyclosporine Itraconazole Erythromycin SLCO1B1b Simvastatin and some\n",
       "\n",
       "other statins\n",
       "\n",
       "aInhibitors affect the molecular pathway and thus may decrease substrate metabolism. bClinically important genetic variants described; see Chap. 68.\n",
       "\n",
       "Note: A listing of CYP substrates, inhibitors, and inducers is maintained at https:// drug-interactions.medicine.iu.edu/MainTable.aspx.\n",
       "\n",
       "may exert important pharmacologic activity, as discussed further below. Therapeutic antibodies are very slowly eliminated (allowing infrequent dosing, e.g., monthly injections), probably by lysosomal uptake and degradation.\n",
       "\n",
       "Clinical Implications of Altered Bioavailability Some drugs undergo near-complete presystemic metabolism and thus cannot be administered orally. Nitroglycerin cannot be used orally because it is completely extracted prior to reaching the systemic circulation. The drug is, therefore, used by the sublingual, transdermal, or intravascular routes, which bypass presystemic metabolism.\n",
       "\n",
       "Some drugs with very extensive presystemic metabolism can still be administered by the oral route, using much higher doses than those required intravenously. Thus, a typical intravenous dose of verapamil is 1–5 mg, compared to a usual single oral dose of 40–120 mg. Administration\n",
       "\n",
       "HPIM21e_Part3_p465-p480.indd 467\n",
       "\n",
       "of low-dose aspirin can result in exposure of cyclooxygenase in platelets in the portal vein to the drug, but systemic sparing because of first- pass aspirin deacylation in the liver. This is an example of presystemic metabolism being exploited to therapeutic advantage.\n",
       "\n",
       "467"
      ],
      "text/plain": [
       "<IPython.core.display.Markdown object>"
      ]
     },
     "metadata": {},
     "output_type": "display_data"
    },
    {
     "name": "stdout",
     "output_type": "stream",
     "text": [
      "<table><tbody><tr><td rowspan=\"5\">CYP3A</td><td>Calcium channel blockers</td><td>Amiodarone</td></tr><tr><td>Antiarrhythmics (lidocaine, quinidine, mexiletine)</td><td>Ketoconazole, itraconazole</td></tr><tr><td>HMG-CoA reductase inhibitors (“statins”; see text)</td><td>Erythromycin, | clarithromycin</td></tr><tr><td>Cyclosporine, tacrolimus</td><td>| Ritonavir</td></tr><tr><td>Indinavir, saquinavir, ritonavir</td><td>Gemfibrozil and other fibrates</td></tr><tr><td rowspan=\"5\">CYP2D6° cyP2cg?</td><td>Timolol, metoprolol, carvedilol</td><td>Quinidine (even at ultra- low doses)</td></tr><tr><td>Propafenone, flecainide</td><td>| Tricyclic antidepressants</td></tr><tr><td>Tricyclic antidepressants</td><td>| Fluoxetine, paroxetine</td></tr><tr><td>Fluoxetine, paroxetine</td><td></td></tr><tr><td></td><td>Amiodarone</td></tr><tr><td></td><td>Warfarin Phenytoin</td><td>Fluconazole</td></tr><tr><td rowspan=\"4\">CyP2C19° CYP2B6°</td><td>Losartan Omeprazole</td><td>Omeprazole</td></tr><tr><td>Mephenytoin</td><td></td></tr><tr><td>Clopidogrel</td><td></td></tr><tr><td>Efavirenz</td><td></td></tr><tr><td>Thiopurine S-methyltransferase®</td><td>6-Mercaptopurine, azathioprine</td><td></td></tr><tr><td rowspan=\"3\">N-acetyltransferase” UGTIA1® Pseudocholinesterase?</td><td>Isoniazid Procainamide Hydralazine</td><td></td></tr><tr><td>sulfonamides</td><td></td></tr><tr><td>Some Irinotecan Succinylcholine</td><td></td></tr><tr><td rowspan=\"5\">P-glycoprotein SLCO1B1&gt;</td><td>substrates</td><td></td></tr><tr><td>Digoxin HIV protease inhibitors Many CYP3A Simvastatin and some</td><td>Quinidine Amiodarone Verapamil Cyclosporine Itraconazole Erythromycin</td></tr><tr><td></td><td></td></tr><tr><td></td><td></td></tr><tr><td></td><td></td></tr></tbody></table>\n"
     ]
    },
    {
     "data": {
      "text/markdown": [
       "<table><tbody><tr><td rowspan=\"5\">CYP3A</td><td>Calcium channel blockers</td><td>Amiodarone</td></tr><tr><td>Antiarrhythmics (lidocaine, quinidine, mexiletine)</td><td>Ketoconazole, itraconazole</td></tr><tr><td>HMG-CoA reductase inhibitors (“statins”; see text)</td><td>Erythromycin, | clarithromycin</td></tr><tr><td>Cyclosporine, tacrolimus</td><td>| Ritonavir</td></tr><tr><td>Indinavir, saquinavir, ritonavir</td><td>Gemfibrozil and other fibrates</td></tr><tr><td rowspan=\"5\">CYP2D6° cyP2cg?</td><td>Timolol, metoprolol, carvedilol</td><td>Quinidine (even at ultra- low doses)</td></tr><tr><td>Propafenone, flecainide</td><td>| Tricyclic antidepressants</td></tr><tr><td>Tricyclic antidepressants</td><td>| Fluoxetine, paroxetine</td></tr><tr><td>Fluoxetine, paroxetine</td><td></td></tr><tr><td></td><td>Amiodarone</td></tr><tr><td></td><td>Warfarin Phenytoin</td><td>Fluconazole</td></tr><tr><td rowspan=\"4\">CyP2C19° CYP2B6°</td><td>Losartan Omeprazole</td><td>Omeprazole</td></tr><tr><td>Mephenytoin</td><td></td></tr><tr><td>Clopidogrel</td><td></td></tr><tr><td>Efavirenz</td><td></td></tr><tr><td>Thiopurine S-methyltransferase®</td><td>6-Mercaptopurine, azathioprine</td><td></td></tr><tr><td rowspan=\"3\">N-acetyltransferase” UGTIA1® Pseudocholinesterase?</td><td>Isoniazid Procainamide Hydralazine</td><td></td></tr><tr><td>sulfonamides</td><td></td></tr><tr><td>Some Irinotecan Succinylcholine</td><td></td></tr><tr><td rowspan=\"5\">P-glycoprotein SLCO1B1&gt;</td><td>substrates</td><td></td></tr><tr><td>Digoxin HIV protease inhibitors Many CYP3A Simvastatin and some</td><td>Quinidine Amiodarone Verapamil Cyclosporine Itraconazole Erythromycin</td></tr><tr><td></td><td></td></tr><tr><td></td><td></td></tr><tr><td></td><td></td></tr></tbody></table>"
      ],
      "text/plain": [
       "<IPython.core.display.Markdown object>"
      ]
     },
     "metadata": {},
     "output_type": "display_data"
    }
   ],
   "source": [
    "from IPython.display import Markdown, display\n",
    "\n",
    "display(Markdown(str(chunks[0].text)))\n",
    "print(chunks[0].metadata.text_as_html)\n",
    "\n",
    "display(Markdown(str(chunks[0].metadata.text_as_html)))"
   ]
  },
  {
   "cell_type": "code",
   "execution_count": 57,
   "id": "31d2bd01",
   "metadata": {},
   "outputs": [
    {
     "data": {
      "text/plain": [
       "[<unstructured.documents.elements.Text at 0x24860806120>,\n",
       " <unstructured.documents.elements.Table at 0x248605beea0>,\n",
       " <unstructured.documents.elements.Text at 0x248622ad2b0>,\n",
       " <unstructured.documents.elements.FigureCaption at 0x2489e0d5a90>,\n",
       " <unstructured.documents.elements.NarrativeText at 0x248622ada90>,\n",
       " <unstructured.documents.elements.NarrativeText at 0x248622ae120>,\n",
       " <unstructured.documents.elements.NarrativeText at 0x248622ae270>,\n",
       " <unstructured.documents.elements.NarrativeText at 0x248622ae660>,\n",
       " <unstructured.documents.elements.NarrativeText at 0x248622ae820>,\n",
       " <unstructured.documents.elements.Image at 0x2483efd9e50>,\n",
       " <unstructured.documents.elements.NarrativeText at 0x24860805fd0>,\n",
       " <unstructured.documents.elements.Text at 0x24860805be0>]"
      ]
     },
     "execution_count": 57,
     "metadata": {},
     "output_type": "execute_result"
    }
   ],
   "source": [
    "chunks[0].metadata.orig_elements"
   ]
  },
  {
   "cell_type": "markdown",
   "id": "79100a60",
   "metadata": {},
   "source": [
    "## OCR + Unstrucured"
   ]
  },
  {
   "cell_type": "code",
   "execution_count": 31,
   "id": "509bf3af",
   "metadata": {},
   "outputs": [],
   "source": [
    "from pathlib import Path\n",
    "\n",
    "SLICE = Path(\"../../data/raw/example_p468_470.pdf\").resolve()\n",
    "OCRD  = Path(\"../../data/raw/example_page_parsed.pdf\").resolve()\n",
    "OCRD.parent.mkdir(parents=True, exist_ok=True)"
   ]
  },
  {
   "cell_type": "code",
   "execution_count": 32,
   "id": "d0006eaf",
   "metadata": {},
   "outputs": [
    {
     "data": {
      "text/html": [
       "<pre style=\"white-space:pre;overflow-x:auto;line-height:normal;font-family:Menlo,'DejaVu Sans Mono',consolas,'Courier New',monospace\">c:\\Users\\alvar\\OneDrive\\Desktop\\TFM\\code\\RAG\\rag\\Lib\\site-packages\\rich\\live.py:256: UserWarning: install \n",
       "\"ipywidgets\" for Jupyter support\n",
       "  warnings.warn('install \"ipywidgets\" for Jupyter support')\n",
       "</pre>\n"
      ],
      "text/plain": [
       "c:\\Users\\alvar\\OneDrive\\Desktop\\TFM\\code\\RAG\\rag\\Lib\\site-packages\\rich\\live.py:256: UserWarning: install \n",
       "\"ipywidgets\" for Jupyter support\n",
       "  warnings.warn('install \"ipywidgets\" for Jupyter support')\n"
      ]
     },
     "metadata": {},
     "output_type": "display_data"
    },
    {
     "data": {
      "text/html": [
       "<pre style=\"white-space:pre;overflow-x:auto;line-height:normal;font-family:Menlo,'DejaVu Sans Mono',consolas,'Courier New',monospace\"></pre>\n"
      ],
      "text/plain": []
     },
     "metadata": {},
     "output_type": "display_data"
    },
    {
     "data": {
      "text/html": [
       "<pre style=\"white-space:pre;overflow-x:auto;line-height:normal;font-family:Menlo,'DejaVu Sans Mono',consolas,'Courier New',monospace\"></pre>\n"
      ],
      "text/plain": []
     },
     "metadata": {},
     "output_type": "display_data"
    },
    {
     "data": {
      "text/html": [
       "<pre style=\"white-space:pre;overflow-x:auto;line-height:normal;font-family:Menlo,'DejaVu Sans Mono',consolas,'Courier New',monospace\">c:\\Users\\alvar\\OneDrive\\Desktop\\TFM\\code\\RAG\\rag\\Lib\\site-packages\\rich\\live.py:256: UserWarning: install \n",
       "\"ipywidgets\" for Jupyter support\n",
       "  warnings.warn('install \"ipywidgets\" for Jupyter support')\n",
       "</pre>\n"
      ],
      "text/plain": [
       "c:\\Users\\alvar\\OneDrive\\Desktop\\TFM\\code\\RAG\\rag\\Lib\\site-packages\\rich\\live.py:256: UserWarning: install \n",
       "\"ipywidgets\" for Jupyter support\n",
       "  warnings.warn('install \"ipywidgets\" for Jupyter support')\n"
      ]
     },
     "metadata": {},
     "output_type": "display_data"
    },
    {
     "data": {
      "text/html": [
       "<pre style=\"white-space:pre;overflow-x:auto;line-height:normal;font-family:Menlo,'DejaVu Sans Mono',consolas,'Courier New',monospace\"></pre>\n"
      ],
      "text/plain": []
     },
     "metadata": {},
     "output_type": "display_data"
    },
    {
     "name": "stdout",
     "output_type": "stream",
     "text": [
      "[OK] OCR’d + fixed PDF has 3 pages → C:\\Users\\alvar\\OneDrive\\Desktop\\TFM\\code\\RAG\\data\\raw\\example_page_parsed.pdf\n"
     ]
    }
   ],
   "source": [
    "from ocrmypdf.api import ocr\n",
    "from ocrmypdf import ExitCode\n",
    "import pikepdf\n",
    "\n",
    "code = ocr(\n",
    "    input_file=str(SLICE),\n",
    "    output_file=str(OCRD),\n",
    "    language=[\"eng\"],   # or just [\"eng\"]\n",
    "    jobs=4,\n",
    "    use_threads=True,          # set to False/None for process-based parallelism\n",
    "    skip_text=True,            # only OCR image-only pages\n",
    "    force_ocr=False,\n",
    "    redo_ocr=False,\n",
    "    optimize=0,\n",
    "    rotate_pages=True,\n",
    "    deskew=True,\n",
    "    clean=False,\n",
    "    clean_final=False,\n",
    "    progress_bar=True,         # show progress; supported by the API\n",
    "    output_type=\"pdf\",      # uncomment if you need PDF/A output\n",
    ")\n",
    "\n",
    "\n",
    "n_pages = 0\n",
    "\n",
    "if code == ExitCode.ok:\n",
    "    with pikepdf.open(str(OCRD)) as pdf:\n",
    "        n_pages = len(pdf.pages)\n",
    "\n",
    "print(f\"[OK] OCR’d + fixed PDF has {n_pages} pages → {OCRD}\")"
   ]
  },
  {
   "cell_type": "markdown",
   "id": "60bdb9a7",
   "metadata": {},
   "source": [
    "Now the Unstructured run after the OCR has parsed the scanned PDF"
   ]
  },
  {
   "cell_type": "code",
   "execution_count": null,
   "id": "196fbc03",
   "metadata": {},
   "outputs": [
    {
     "name": "stdout",
     "output_type": "stream",
     "text": [
      "Warning: No languages specified, defaulting to English.\n"
     ]
    },
    {
     "data": {
      "text/markdown": [
       "Transiently high drug concentrations after rapid intravenous admin- istration can occasionally be used to advantage. The use of midazolam for intravenous sedation, for example, depends upon its rapid uptake by the brain during the distribution phase to produce sedation quickly, with subsequent egress from the brain during the redistribution of the drug as equilibrium is achieved.\n",
       "\n",
       "Similarly, adenosine must be administered as a rapid bolus in the treatment of reentrant supraventricular tachycardias (Chap. 246) to prevent elimination by very rapid (t1/2 of seconds) uptake into erythro- cytes and endothelial cells before the drug can reach its clinical site of action, the atrioventricular node.\n",
       "\n",
       "Clinical Implications of Altered Protein Binding Many drugs circulate in the plasma partly bound to plasma proteins. Since only unbound (free) drug can distribute to sites of pharmacologic action,\n",
       "\n",
       "HPIM21e_Part3_p465-p480.indd 468\n",
       "\n",
       "drug response is related to the free rather than the total circulating plasma drug concentration. In chronic kidney or liver disease, protein binding may be decreased and thus drug actions increased. In some situations (myocardial infarction, infection, surgery), acute phase reactants transiently increase binding of some drugs and thus decrease efficacy. These changes assume the greatest clinical importance for drugs that are highly protein-bound since even a small change in protein binding can result in large changes in free drug; for example, a decrease in binding from 99 to 98% doubles the free drug concentration from 1 to 2%. For some drugs (e.g., phenytoin), monitoring free rather than total drug concentrations can be useful.\n",
       "\n",
       "■ DRUG ELIMINATION\n",
       "\n",
       "Drug elimination reduces the amount of drug in the body over time. An important approach to quantifying this reduction is to consider that drug concentrations at the beginning and end of a time period are unchanged, and that a specific volume of the body has been “cleared” of the drug during that time period. This defines clearance as volume/ time. Clearance includes both drug metabolism and excretion.\n",
       "\n",
       "Clinical Implications of Altered Clearance While elimination half-life determines the time required to achieve steady-state plasma concentration (Css), the magnitude of that steady state is determined by clearance (Cl) and dose alone. For a drug administered as an intrave- nous infusion, this relationship is:\n",
       "\n",
       "Css = dosing rate/Cl or dosing rate = Cl • Css\n",
       "\n",
       "When a drug is administered orally, the average plasma concentration within a dosing interval (Cavg,ss) replaces Css, and the dosage (dose per unit time) must be increased if bioavailability (F) is <100%:\n",
       "\n",
       "Dose/time = Cl • Cavg,ss/F\n",
       "\n",
       "Genetic variants, drug interactions, or diseases that reduce the activity of drug-metabolizing enzymes or excretory mechanisms lead to decreased clearance and, hence, a requirement for a downward dose adjustment to avoid toxicity. Conversely, some drug interactions and genetic variants increase the function of drug elimination pathways, and hence, increased drug dosage is necessary to maintain a therapeu- tic effect.\n",
       "\n",
       "■ ACTIVE DRUG METABOLITES\n",
       "\n",
       "Metabolites may produce effects similar to, overlapping with, or dis- tinct from those of the parent drug. Accumulation of the major metab- olite of procainamide, N-acetylprocainamide (NAPA), likely accounts for marked QT prolongation and torsades de pointes ventricular tachy- cardia (Chap. 252) during therapy with procainamide. Neurotoxicity during therapy with the opioid analgesic meperidine is likely due to accumulation of normeperidine, especially in renal disease.\n",
       "\n",
       "Prodrugs are inactive compounds that require metabolism to gener- ate active metabolites that mediate the drug effects. Examples include many angiotensin-converting enzyme (ACE) inhibitors, the angi- otensin receptor blocker losartan, the antineoplastic irinotecan, the antiestrogen tamoxifen, the analgesic codeine (whose active metabolite morphine probably underlies the opioid effect during codeine admin- istration), and the antiplatelet drug clopidogrel. Drug metabolism has also been implicated in bioactivation of procarcinogens and in the generation of reactive metabolites that mediate certain ADRs (e.g., acetaminophen hepatotoxicity, discussed below)."
      ],
      "text/plain": [
       "<IPython.core.display.Markdown object>"
      ]
     },
     "metadata": {},
     "output_type": "display_data"
    }
   ],
   "source": [
    "from unstructured.partition.pdf import partition_pdf\n",
    "import os\n",
    "import json\n",
    "\n",
    "PDF_PATH = \"../../data/raw/example_page_parsed.pdf\"\n",
    "OUT_PATH = \"../../data/processed/unstructured/ocr_output.json\"\n",
    "# parse only page 508\n",
    "\n",
    "chunks = partition_pdf(\n",
    "    filename=PDF_PATH,\n",
    "    infer_table_structure=True,\n",
    "    strategy=\"hi_res\",\n",
    "    extract_image_block_types=[\"Image\"],\n",
    "    extract_image_block_to_payload=True,\n",
    "    chunking_strategy=\"by_title\",\n",
    "    max_characters=10000,\n",
    "    combine_text_under_n_chars=2000,\n",
    "    new_after_n_chars=6000,\n",
    ")\n",
    "\n",
    "from IPython.display import Markdown, display\n",
    "\n",
    "display(Markdown(str(chunks[2].text)))\n"
   ]
  },
  {
   "cell_type": "code",
   "execution_count": 37,
   "id": "d73111a7",
   "metadata": {},
   "outputs": [
    {
     "data": {
      "text/markdown": [
       "TABLE 67-1 Molecular Pathways Mediating Drug Disposition\n",
       "\n",
       "ENZYME SUBSTRATESa INHIBITORSa CYP3A Calcium channel Amiodarone blockers Antiarrhythmics Ketoconazole, (lidocaine, quinidine, itraconazole mexiletine) HMG-CoA reductase Erythromycin, inhibitors (“statins”; see clarithromycin text) Cyclosporine, tacrolimus Ritonavir Indinavir, saquinavir, Gemfibrozil and other ritonavir fibrates CYP2D6b Timolol, metoprolol, Quinidine (even at ultra- carvedilol low doses) Propafenone, flecainide Tricyclic antidepressants Tricyclic antidepressants Fluoxetine, paroxetine Fluoxetine, paroxetine CYP2C9b Warfarin Amiodarone Phenytoin Fluconazole Glipizide Phenytoin Losartan CYP2C19b Omeprazole Omeprazole Mephenytoin Clopidogrel CYP2B6b Efavirenz Thiopurine 6-Mercaptopurine, S-methyltransferaseb azathioprine N-acetyltransferaseb Isoniazid Procainamide Hydralazine Some sulfonamides UGT1A1b Irinotecan Pseudocholinesteraseb Succinylcholine TRANSPORTER SUBSTRATESa INHIBITORSa P-glycoprotein Digoxin Quinidine HIV protease inhibitors Amiodarone Many CYP3A substrates Verapamil Cyclosporine Itraconazole Erythromycin SLCO1B1b Simvastatin and some\n",
       "\n",
       "other statins\n",
       "\n",
       "aInhibitors affect the molecular pathway and thus may decrease substrate metabolism. bClinically important genetic variants described; see Chap. 68.\n",
       "\n",
       "Note: A listing of CYP substrates, inhibitors, and inducers is maintained at https:// drug-interactions.medicine.iu.edu/MainTable.aspx.\n",
       "\n",
       "may exert important pharmacologic activity, as discussed further below. Therapeutic antibodies are very slowly eliminated (allowing infrequent dosing, e.g., monthly injections), probably by lysosomal uptake and degradation.\n",
       "\n",
       "Clinical Implications of Altered Bioavailability Some drugs undergo near-complete presystemic metabolism and thus cannot be administered orally. Nitroglycerin cannot be used orally because it is completely extracted prior to reaching the systemic circulation. The drug is, therefore, used by the sublingual, transdermal, or intravascular routes, which bypass presystemic metabolism.\n",
       "\n",
       "Some drugs with very extensive presystemic metabolism can still be administered by the oral route, using much higher doses than those required intravenously. Thus, a typical intravenous dose of verapamil is 1–5 mg, compared to a usual single oral dose of 40–120 mg. Administration\n",
       "\n",
       "HPIM21e_Part3_p465-p480.indd 467\n",
       "\n",
       "of low-dose aspirin can result in exposure of cyclooxygenase in platelets in the portal vein to the drug, but systemic sparing because of first- pass aspirin deacylation in the liver. This is an example of presystemic metabolism being exploited to therapeutic advantage.\n",
       "\n",
       "467"
      ],
      "text/plain": [
       "<IPython.core.display.Markdown object>"
      ]
     },
     "metadata": {},
     "output_type": "display_data"
    },
    {
     "name": "stdout",
     "output_type": "stream",
     "text": [
      "■ PLASMA HALF-LIFE\n",
      "\n",
      "Most pharmacokinetic processes, such as elimination, are first-order; that is, the rate of the process depends on the amount of drug present. Elimination can occasionally be zero-order (fixed amount eliminated per unit time), and this can be clinically important (see “Principles of Dose Selection,” later in this chapter). In the simplest pharmacokinetic model (Fig. 67-2A), a drug bolus (D) is administered instantaneously to a central compartment, from which drug elimination occurs as a first-order process. Occasionally, central and other compartments cor- respond to physiologic spaces (e.g., plasma volume), whereas in other cases, they are simply mathematical functions used to describe drug disposition. The first-order nature of drug elimination leads directly to the relationship describing drug concentration (C) at any time (t) following the bolus:\n",
      "\n",
      "C = D V •e − ( 0.69t/t 1/2 )\n",
      "\n",
      "c\n",
      "\n",
      "C\n",
      "\n",
      "L9 YA LdVHO\n",
      "\n",
      "H\n",
      "\n",
      "A\n",
      "\n",
      "P\n",
      "\n",
      "T\n",
      "\n",
      "E\n",
      "\n",
      "R\n",
      "\n",
      "6\n",
      "\n",
      "7\n",
      "\n",
      "P\n",
      "\n",
      "r\n",
      "\n",
      "i\n",
      "\n",
      "where Vc is the volume of the compartment into which drug is delivered and t1/2 is elimination half-life. As a consequence of this relationship, a plot of the logarithm of concentration versus time is a straight line (Fig. 67-2A, inset). Half-life is the time required for 50% of a first-order process to be completed. Thus, 50% of drug elimination is achieved after one drug-elimination half-life, 75% after two, 87.5% after three, etc. In practice, first-order processes such as elimination are near- complete after four to five half-lives.\n",
      "\n",
      "n\n",
      "\n",
      "c\n",
      "\n",
      "i\n",
      "\n",
      "p\n",
      "\n",
      "l\n",
      "\n",
      "e\n",
      "\n",
      "s\n",
      "\n",
      "o\n",
      "\n",
      "f\n",
      "\n",
      "C\n",
      "\n",
      "l\n",
      "\n",
      "i\n",
      "\n",
      "n\n",
      "\n",
      "i\n",
      "\n",
      "c\n",
      "\n",
      "a\n",
      "\n",
      "l\n",
      "\n",
      "P\n",
      "\n",
      "h\n",
      "\n",
      "a\n",
      "\n",
      "r\n",
      "\n",
      "In some cases, drug is removed from the central compartment not only by elimination but also by distribution into peripheral compart- ments. In this case, the plot of plasma concentration versus time after a bolus may demonstrate two (or more) exponential components (Fig. 67-2B). In general, the initial rapid drop in drug concentration represents not elimination but drug distribution into and out of periph- eral tissues (also first-order processes), while the slower component represents drug elimination; the initial precipitous decline is usually evident with administration by intravenous but not by other routes. Drug concentrations at peripheral sites are determined by a balance between drug distribution to and redistribution from those sites, as well as by elimination. Once distribution is near-complete (four to five distribution half-lives), plasma and tissue concentrations decline in parallel.\n",
      "\n",
      "m\n",
      "\n",
      "a\n",
      "\n",
      "c\n",
      "\n",
      "o\n",
      "\n",
      "l\n",
      "\n",
      "o\n",
      "\n",
      "g\n",
      "\n",
      "y\n",
      "\n",
      "Clinical Implications of Half-Life Measurements The elimi- nation half-life not only determines the time required for drug concen- trations to fall to near-immeasurable levels after a single bolus, it is also the sole determinant of the time required for steady-state plasma concen- trations to be achieved after any change in drug dosing (Fig. 67-4). This applies to the initiation of chronic drug therapy (whether by multiple oral doses or by continuous intravenous infusion), a change in chronic drug dose or dosing interval, or discontinuation of drug.\n",
      "\n",
      "Steady state describes the situation during chronic drug adminis- tration when the amount of drug administered per unit time equals drug eliminated per unit time. With a continuous intravenous infusion, plasma concentrations at steady state are stable, while with chronic oral drug administration, plasma concentrations vary during the dosing interval, but the time-concentration profile between dosing intervals is stable (Fig. 67-4).\n",
      "\n",
      "■ DRUG DISTRIBUTION\n",
      "\n",
      "In a typical 70-kg human, plasma volume is ∼3 L, blood volume is ∼5.5 L, and extracellular water outside the vasculature is ∼20 L. The volume of distribution of drugs extensively bound to plasma proteins but not to tissue components approaches plasma volume; warfarin is an example. By contrast, for drugs highly bound to tissues, the volume of distribution can be far greater than any physiologic space. For example, the volume of distribution of digoxin and tricyclic antidepressants is hundreds\n",
      "\n",
      "30/12/21 1:36 PM\n",
      "\n",
      "468\n",
      "\n",
      "Initiation Change of of therapy chronic therapy Loading dose + dose = D Dose = 2•D Dose = 2•D n o i t a r t n e c n o C *10th dose Dose = 0.5•D Dose = D Change dosing Discontinue drug\n",
      "\n",
      "€ Lavd\n",
      "\n",
      "ASojooeurrey\n",
      "\n",
      "Time\n",
      "\n",
      "FIGURE 67-4 Drug accumulation to steady state. In this simulation, drug was administered (arrows) at intervals = 50% of the elimination half-life. Steady state is achieved during initiation of therapy after ∼5 elimination half-lives, or 10 doses. A loading dose did not alter the eventual steady state achieved. A doubling of the dose resulted in a doubling of the steady state but the same time course of accumulation. Once steady state is achieved, a change in dose (increase, decrease, or drug discontinuation) results in a new steady state in ∼5 elimination half-lives. (Adapted by permission from DM Roden, in DP Zipes, J Jalife [eds]: Cardiac Electrophysiology: From Cell to Bedside, 4th ed. Philadelphia, Saunders, 2003. Copyright 2003 with permission from Elsevier.)\n",
      "\n",
      "of liters, obviously exceeding total-body volume. Such drugs are not readily removed by dialysis, an important consideration in overdose.\n",
      "\n",
      "Clinical Implications of Drug Distribution In some cases, pharmacologic effects require drug distribution to peripheral sites. In this instance, the time course of drug delivery to and removal from these sites determines the time course of drug effects; anesthetic uptake into the central nervous system (CNS) is an example.\n",
      "\n",
      "LOADING DOSES For some drugs, the indication may be so urgent that administration of “loading” dosages is required to achieve rapid elevations of drug concentration and therapeutic effects earlier than with chronic maintenance therapy (Fig. 67-4). Nevertheless, the time required for a true steady state to be achieved is still determined only by the elimination half-life.\n",
      "\n",
      "RATE OF INTRAVENOUS DRUG ADMINISTRATION Although the sim- ulations in Fig. 67-2 use a single intravenous bolus, this is usually inappropriate in practice because side effects related to transiently very high concentrations can result. Rather, drugs are more usually admin- istered orally or as a slower intravenous infusion. Some drugs are so predictably lethal when infused too rapidly that special precautions should be taken to prevent accidental boluses. For example, solutions of potassium for intravenous administration >20 mEq/L should be avoided in all but the most exceptional and carefully monitored cir- cumstances. This minimizes the possibility of cardiac arrest due to accidental increases in infusion rates of more concentrated solutions.\n"
     ]
    }
   ],
   "source": [
    "\n",
    "from IPython.display import Markdown, display\n",
    "\n",
    "display(Markdown(str(chunks[0].text)))\n",
    "print(chunks[1])"
   ]
  },
  {
   "cell_type": "code",
   "execution_count": 36,
   "id": "6e5b1af2",
   "metadata": {},
   "outputs": [
    {
     "data": {
      "text/plain": [
       "[<unstructured.documents.elements.Text at 0x24860905550>,\n",
       " <unstructured.documents.elements.Table at 0x2484d735090>,\n",
       " <unstructured.documents.elements.Text at 0x2486093b690>,\n",
       " <unstructured.documents.elements.FigureCaption at 0x248605befd0>,\n",
       " <unstructured.documents.elements.NarrativeText at 0x2486093b7e0>,\n",
       " <unstructured.documents.elements.NarrativeText at 0x2486093b9a0>,\n",
       " <unstructured.documents.elements.NarrativeText at 0x2486093ba80>,\n",
       " <unstructured.documents.elements.NarrativeText at 0x2486093bd20>,\n",
       " <unstructured.documents.elements.NarrativeText at 0x2486093bf50>,\n",
       " <unstructured.documents.elements.Image at 0x248606643e0>,\n",
       " <unstructured.documents.elements.NarrativeText at 0x24860904d70>,\n",
       " <unstructured.documents.elements.Text at 0x24860905400>]"
      ]
     },
     "execution_count": 36,
     "metadata": {},
     "output_type": "execute_result"
    }
   ],
   "source": [
    "chunks[0].metadata.orig_elements"
   ]
  },
  {
   "cell_type": "markdown",
   "id": "ab507dba",
   "metadata": {},
   "source": [
    "## LLamaParse"
   ]
  },
  {
   "cell_type": "code",
   "execution_count": 28,
   "id": "e50a60ba",
   "metadata": {},
   "outputs": [],
   "source": [
    "import os\n",
    "from pathlib import Path\n",
    "from dotenv import load_dotenv\n",
    "from pypdf import PdfReader, PdfWriter\n",
    "from llama_parse import LlamaParse\n",
    "\n",
    "# ---- load environment variables from .env\n",
    "load_dotenv()\n",
    "api_key = os.getenv(\"LLAMAPARSE_API_KEY\")\n",
    "if not api_key:\n",
    "    raise RuntimeError(\"LLAMAPARSE_API_KEY not set in .env\")\n",
    "\n",
    "# ---- inputs/outputs\n",
    "\n",
    "PDF_PATH = \"../../data/raw/example_p468_470.pdf\"\n",
    "OUT_PATH = \"../../data/processed/llamaparse_output.md\"\n",
    "\n",
    "\n",
    "instruction = (\"Preserve the document structure and content maintaining, mathematical equations \\n\"\n",
    "               \"Pay special attention also to the table structure and content so that it matches the original one (headers included)\")\n",
    "\n",
    "parser = LlamaParse(\n",
    "    api_key=api_key,\n",
    "    result_type=\"markdown\",\n",
    "    language=\"en\",\n",
    "    num_workers=4,\n",
    "    parsing_instruction = instruction\n",
    "\n",
    "   \n",
    ")"
   ]
  },
  {
   "cell_type": "code",
   "execution_count": 29,
   "id": "b05b5af2",
   "metadata": {},
   "outputs": [
    {
     "name": "stdout",
     "output_type": "stream",
     "text": [
      "[llamaparse] sending slice…\n",
      "WARNING: parsing_instruction is deprecated. Use system_prompt, system_prompt_append or user_prompt instead.\n",
      "Started parsing the file under job_id 2d5beec6-abee-4fac-a26e-a7caa2d41de4\n",
      "[llamaparse] returned docs: 3\n"
     ]
    }
   ],
   "source": [
    "try:\n",
    "    print(\"[llamaparse] sending slice…\")\n",
    "    docs = parser.load_data(str(PDF_PATH))\n",
    "    print(\"[llamaparse] returned docs:\", len(docs))\n",
    "except Exception as e:\n",
    "    print(\"[llamaparse] exception:\", repr(e))\n",
    "    raise\n",
    "\n",
    "# If nothing came back, print more breadcrumbs\n",
    "if len(docs) == 0:\n",
    "    print(\"[warn] LlamaParse returned 0 docs. Quick checklist:\")\n",
    "    print(\"  - Is the file really text/scan? Try a different page range.\")\n",
    "    print(\"  - Try result_type='text' or 'structured'.\")\n",
    "    print(\"  - Try without slicing: pass the full PDF once.\")\n",
    "    print(\"  - Check network/proxy; Llama Cloud needs outbound https.\")\n",
    "    print(\"  - Double-check key validity (a bad key can yield empty results).\")\n",
    "\n",
    "# ------"
   ]
  },
  {
   "cell_type": "code",
   "execution_count": 30,
   "id": "36a69e0b",
   "metadata": {},
   "outputs": [
    {
     "name": "stdout",
     "output_type": "stream",
     "text": [
      "Saved single markdown → ..\\..\\data\\processed\\llamaparse_output.md\n"
     ]
    }
   ],
   "source": [
    "from pathlib import Path\n",
    "import re, html\n",
    "\n",
    "SINGLE_MD = Path(OUT_PATH)\n",
    "\n",
    "HEADING_RE = re.compile(r\"(?m)^(#{1,6})(\\S)\")                     # ensure '#Title' -> '# Title'\n",
    "TABLE_ROW_RE = re.compile(r\"^\\s*\\|\")                               # lines that look like pipe-table rows\n",
    "TABLE_SEP_RE = re.compile(r\"^\\s*\\|?\\s*:?-{2,}:?\\s*(\\|\\s*:?-{2,}:?\\s*)+\\|?\\s*$\")\n",
    "\n",
    "def normalize_markdown(md: str) -> str:\n",
    "    if not md:\n",
    "        return \"\"\n",
    "    # 1) decode HTML entities (&#x3C; -> <)\n",
    "    md = html.unescape(md)\n",
    "\n",
    "    # 2) fix headings missing a space: '#Title' -> '# Title'\n",
    "    md = HEADING_RE.sub(lambda m: f\"{m.group(1)} {m.group(2)}\", md)\n",
    "\n",
    "    # 3) collapse >2 blank lines to max 2\n",
    "    md = re.sub(r\"\\n{3,}\", \"\\n\\n\", md)\n",
    "\n",
    "    # 4) ensure a blank line BEFORE headings\n",
    "    md = re.sub(r\"(?m)([^\\n])\\n(#{1,6}\\s)\", r\"\\1\\n\\n\\2\", md)\n",
    "\n",
    "    # 5) ensure a blank line AFTER headings (if next line is not blank)\n",
    "    md = re.sub(r\"(?m)^(#{1,6}\\s.+)\\n(?!\\n|\\||-{3,})\", r\"\\1\\n\\n\", md)\n",
    "\n",
    "    # 6) ensure blank lines around tables (pipe-style)\n",
    "    lines = md.splitlines()\n",
    "    out = []\n",
    "    for i, line in enumerate(lines):\n",
    "        # insert blank line before a table row if previous non-empty line isn't blank or header\n",
    "        if TABLE_ROW_RE.match(line):\n",
    "            if out and out[-1].strip() and not TABLE_ROW_RE.match(out[-1]) and not TABLE_SEP_RE.match(out[-1]):\n",
    "                out.append(\"\")  # blank line before table\n",
    "        out.append(line)\n",
    "        # if this is a table separator row, ensure there's at least one row above & below (renderer-friendly)\n",
    "        # (we won’t synthesize; just spacing)\n",
    "        if TABLE_SEP_RE.match(line):\n",
    "            # ensure there is a blank line after the table end (will be added when next non-table appears)\n",
    "            pass\n",
    "    md = \"\\n\".join(out)\n",
    "\n",
    "    # 7) demote standalone page banners like \"# 468\" to smaller heading or italic line\n",
    "    md = re.sub(r\"(?m)^#\\s+(\\d{1,5})\\s*$\", r\"### Page \\1\", md)\n",
    "\n",
    "    # 8) strip stray trailing spaces\n",
    "    md = re.sub(r\"[ \\t]+(\\n)\", r\"\\1\", md)\n",
    "\n",
    "    return md.strip() + \"\\n\"\n",
    "\n",
    "def safe_anchor(s: str) -> str:\n",
    "    s = re.sub(r\"[^\\w\\s-]\", \"\", s).strip().lower()\n",
    "    s = re.sub(r\"\\s+\", \"-\", s)\n",
    "    return s[:80] or \"chunk\"\n",
    "\n",
    "toc = [\"# Parsed Output\", \"## Table of Contents\"]\n",
    "parts = []\n",
    "\n",
    "for i, d in enumerate(docs):\n",
    "    raw = (getattr(d, \"text\", \"\") or \"\").strip()\n",
    "    if not raw:\n",
    "        continue\n",
    "    md = normalize_markdown(raw)\n",
    "\n",
    "    # build a visible section header so chunk boundaries are obvious\n",
    "    meta = dict(getattr(d, \"metadata\", {}) or {})\n",
    "    page = meta.get(\"page_number\") or meta.get(\"page\") or \"n/a\"\n",
    "    # use first heading in the chunk as title, else \"Chunk i\"\n",
    "    m = re.search(r\"(?m)^\\s*#{1,6}\\s+(.+)$\", md)\n",
    "    title = m.group(1).strip() if m else f\"Chunk {i}\"\n",
    "    anchor = f\"chunk-{i}-{safe_anchor(title)}\"\n",
    "\n",
    "    toc.append(f\"- [Chunk {i} — p. {page}: {title}](#{anchor})\")\n",
    "    parts.append(\n",
    "        f\"\\n\\n---\\n\\n<a id='{anchor}'></a>\\n\\n## Chunk {i} — Page {page}\\n\\n{md}\"\n",
    "    )\n",
    "\n",
    "final_md = \"\\n\".join(toc) + \"\\n\" + \"\".join(parts)\n",
    "SINGLE_MD.parent.mkdir(parents=True, exist_ok=True)\n",
    "SINGLE_MD.write_text(final_md, encoding=\"utf-8\")\n",
    "print(f\"Saved single markdown → {SINGLE_MD}\")"
   ]
  }
 ],
 "metadata": {
  "kernelspec": {
   "display_name": "rag",
   "language": "python",
   "name": "python3"
  },
  "language_info": {
   "codemirror_mode": {
    "name": "ipython",
    "version": 3
   },
   "file_extension": ".py",
   "mimetype": "text/x-python",
   "name": "python",
   "nbconvert_exporter": "python",
   "pygments_lexer": "ipython3",
   "version": "3.13.7"
  }
 },
 "nbformat": 4,
 "nbformat_minor": 5
}
